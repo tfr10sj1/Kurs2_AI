{
 "cells": [
  {
   "cell_type": "markdown",
   "metadata": {
    "colab_type": "text",
    "id": "37puETfgRzzg"
   },
   "source": [
    "# Data Preprocessing Tools"
   ]
  },
  {
   "cell_type": "markdown",
   "metadata": {
    "colab_type": "text",
    "id": "EoRP98MpR-qj"
   },
   "source": [
    "## Importing the libraries"
   ]
  },
  {
   "cell_type": "code",
   "execution_count": 1,
   "metadata": {
    "colab": {},
    "colab_type": "code",
    "id": "N-qiINBQSK2g"
   },
   "outputs": [],
   "source": [
    "import numpy as np\n",
    "import matplotlib.pyplot as plt\n",
    "import pandas as pd"
   ]
  },
  {
   "cell_type": "markdown",
   "metadata": {
    "colab_type": "text",
    "id": "RopL7tUZSQkT"
   },
   "source": [
    "## Importing the dataset"
   ]
  },
  {
   "cell_type": "code",
   "execution_count": 2,
   "metadata": {
    "colab": {},
    "colab_type": "code",
    "id": "WwEPNDWySTKm"
   },
   "outputs": [],
   "source": [
    "dataset = pd.read_csv('Social_Network_Ads.csv')\n",
    "X = dataset.iloc[:, : -1].values\n",
    "y = dataset.iloc[:, -1].values"
   ]
  },
  {
   "cell_type": "markdown",
   "metadata": {
    "colab_type": "text",
    "id": "qb_vcgm3qZKW",
    "tags": []
   },
   "source": [
    "## Splitting the dataset into the Training set and Test set"
   ]
  },
  {
   "cell_type": "code",
   "execution_count": 3,
   "metadata": {
    "colab": {},
    "colab_type": "code",
    "id": "pXgA6CzlqbCl"
   },
   "outputs": [],
   "source": [
    "from sklearn.model_selection import train_test_split\n",
    "X_train, X_test, y_train, y_test = train_test_split(X, y, test_size = 0.25, random_state = 1)"
   ]
  },
  {
   "cell_type": "code",
   "execution_count": 4,
   "metadata": {
    "colab": {
     "base_uri": "https://localhost:8080/",
     "height": 154
    },
    "colab_type": "code",
    "id": "GuwQhFdKrYTM",
    "outputId": "de1e527f-c229-4daf-e7c5-ea9d2485148d"
   },
   "outputs": [],
   "source": [
    "#print(X_train)"
   ]
  },
  {
   "cell_type": "code",
   "execution_count": 5,
   "metadata": {
    "colab": {
     "base_uri": "https://localhost:8080/",
     "height": 51
    },
    "colab_type": "code",
    "id": "TUrX_Tvcrbi4",
    "outputId": "9a041a9b-2642-4828-fa2f-a431d7d77631"
   },
   "outputs": [],
   "source": [
    "#print(X_test)"
   ]
  },
  {
   "cell_type": "code",
   "execution_count": 6,
   "metadata": {
    "colab": {
     "base_uri": "https://localhost:8080/",
     "height": 34
    },
    "colab_type": "code",
    "id": "pSMHiIsWreQY",
    "outputId": "5afe91e0-9244-4bf5-ec1b-e3e092b85c08"
   },
   "outputs": [],
   "source": [
    "#print(y_train)"
   ]
  },
  {
   "cell_type": "code",
   "execution_count": 7,
   "metadata": {
    "colab": {
     "base_uri": "https://localhost:8080/",
     "height": 34
    },
    "colab_type": "code",
    "id": "I_tW7H56rgtW",
    "outputId": "2a93f141-2a99-4a69-eec5-c82a3bb8d36b"
   },
   "outputs": [],
   "source": [
    "#print(y_test)"
   ]
  },
  {
   "cell_type": "markdown",
   "metadata": {
    "colab_type": "text",
    "id": "TpGqbS4TqkIR"
   },
   "source": [
    "## Feature Scaling"
   ]
  },
  {
   "cell_type": "code",
   "execution_count": 8,
   "metadata": {
    "colab": {},
    "colab_type": "code",
    "id": "AxjSUXFQqo-3"
   },
   "outputs": [],
   "source": [
    "from sklearn.preprocessing import StandardScaler\n",
    "sc = StandardScaler()\n",
    "X_train = sc.fit_transform(X_train)\n",
    "X_test = sc.transform(X_test)"
   ]
  },
  {
   "cell_type": "code",
   "execution_count": 9,
   "metadata": {
    "colab": {
     "base_uri": "https://localhost:8080/",
     "height": 154
    },
    "colab_type": "code",
    "id": "DWPET8ZdlMnu",
    "outputId": "dea86927-5124-4e2a-e974-2804df9a913c"
   },
   "outputs": [
    {
     "name": "stdout",
     "output_type": "stream",
     "text": [
      "[[-1.68062015e+00 -5.92416706e-01]\n",
      " [ 8.69241193e-01  5.63566526e-01]\n",
      " [-6.01832657e-01 -1.03702564e+00]\n",
      " [ 9.67312783e-01 -1.15558802e+00]\n",
      " [-2.09546297e-01 -5.62776110e-01]\n",
      " [ 1.82740063e-01  8.00691292e-01]\n",
      " [-4.05689477e-01  1.30458142e+00]\n",
      " [ 1.16345596e+00  5.04285335e-01]\n",
      " [ 7.71169603e-01  2.96801165e-01]\n",
      " [ 6.73098013e-01 -8.88822663e-01]\n",
      " [ 3.78883243e-01 -2.96010749e-01]\n",
      " [ 4.76954833e-01 -4.73854323e-01]\n",
      " [-2.09546297e-01  1.18957591e-01]\n",
      " [ 3.78883243e-01  8.93169951e-02]\n",
      " [-9.94119017e-01  8.00691292e-01]\n",
      " [-6.99904247e-01  1.39350321e+00]\n",
      " [ 3.78883243e-01 -5.03494919e-01]\n",
      " [ 3.78883243e-01 -5.03494919e-01]\n",
      " [-1.68062015e+00  3.85722952e-01]\n",
      " [ 8.69241193e-01 -8.29541472e-01]\n",
      " [-9.94119017e-01 -1.12594743e+00]\n",
      " [-2.09546297e-01  5.96763994e-02]\n",
      " [ 1.16345596e+00 -1.21486922e+00]\n",
      " [-2.09546297e-01  6.52488313e-01]\n",
      " [-1.34031173e-02  1.78238782e-01]\n",
      " [-5.03761067e-01  1.42314380e+00]\n",
      " [-1.11474707e-01  1.78238782e-01]\n",
      " [-1.68062015e+00  5.04285335e-01]\n",
      " [ 8.46684727e-02 -5.62776110e-01]\n",
      " [ 1.16345596e+00 -9.77744450e-01]\n",
      " [ 2.80811653e-01 -1.18167175e-01]\n",
      " [-1.34031173e-02  2.37519974e-01]\n",
      " [ 2.24224345e+00 -6.81338493e-01]\n",
      " [ 1.06538437e+00  2.04559631e+00]\n",
      " [ 2.80811653e-01  5.96763994e-02]\n",
      " [-1.11474707e-01 -1.77448366e-01]\n",
      " [-1.09219061e+00  3.56082356e-01]\n",
      " [-4.05689477e-01 -1.12594743e+00]\n",
      " [ 3.78883243e-01 -5.33135515e-01]\n",
      " [ 8.69241193e-01  1.48598186e-01]\n",
      " [-1.87676333e+00  3.85722952e-01]\n",
      " [-1.34031173e-02 -1.06666624e+00]\n",
      " [-2.09546297e-01 -4.73854323e-01]\n",
      " [-8.96047427e-01 -2.96010749e-01]\n",
      " [-1.34031173e-02  5.96763994e-02]\n",
      " [-1.87676333e+00 -7.40619685e-01]\n",
      " [ 8.46684727e-02 -2.36729558e-01]\n",
      " [-2.09546297e-01 -1.18167175e-01]\n",
      " [-6.01832657e-01 -8.85265792e-02]\n",
      " [ 9.67312783e-01 -1.30379100e+00]\n",
      " [ 4.76954833e-01  1.03781606e+00]\n",
      " [-1.77869174e+00 -1.48163458e+00]\n",
      " [-1.58254856e+00  8.93169951e-02]\n",
      " [-8.96047427e-01 -1.09630683e+00]\n",
      " [ 1.45767073e+00  2.40128346e+00]\n",
      " [ 1.55574232e+00  1.03781606e+00]\n",
      " [-1.19026220e+00  3.26441761e-01]\n",
      " [-1.09219061e+00  8.93169951e-02]\n",
      " [-1.09219061e+00 -1.60019696e+00]\n",
      " [ 2.80811653e-01  2.16415869e+00]\n",
      " [-2.09546297e-01 -9.18463259e-01]\n",
      " [ 1.94802868e+00  1.57134678e+00]\n",
      " [ 3.78883243e-01  5.33925931e-01]\n",
      " [-1.28833379e+00  5.93207122e-01]\n",
      " [-1.34031173e-02 -5.03494919e-01]\n",
      " [-2.09546297e-01  1.15637844e+00]\n",
      " [-5.03761067e-01  9.19253675e-01]\n",
      " [-2.09546297e-01  2.31236167e+00]\n",
      " [-1.77869174e+00 -1.27415041e+00]\n",
      " [ 8.69241193e-01  3.85722952e-01]\n",
      " [ 9.67312783e-01  1.06745665e+00]\n",
      " [ 7.71169603e-01 -7.10979089e-01]\n",
      " [ 8.46684727e-02 -5.33135515e-01]\n",
      " [-1.34031173e-02  7.11769505e-01]\n",
      " [-7.97975837e-01 -7.70260280e-01]\n",
      " [ 3.78883243e-01 -1.15558802e+00]\n",
      " [ 2.80811653e-01 -2.66370153e-01]\n",
      " [-9.94119017e-01  5.63566526e-01]\n",
      " [-9.94119017e-01  6.22847718e-01]\n",
      " [ 1.82740063e-01  5.96763994e-02]\n",
      " [-1.38640538e+00 -1.21486922e+00]\n",
      " [ 1.35959914e+00  2.28272108e+00]\n",
      " [-1.38640538e+00 -1.77448366e-01]\n",
      " [-1.34031173e-02  3.26441761e-01]\n",
      " [ 2.80811653e-01 -6.51697898e-01]\n",
      " [ 1.06538437e+00 -1.18522862e+00]\n",
      " [-2.09546297e-01 -2.96010749e-01]\n",
      " [-1.09219061e+00 -1.15558802e+00]\n",
      " [ 1.82740063e-01  1.09709725e+00]\n",
      " [-8.96047427e-01  4.45004144e-01]\n",
      " [ 2.14417186e+00  2.07879378e-01]\n",
      " [ 2.80811653e-01 -3.55291941e-01]\n",
      " [-2.09546297e-01  8.30331888e-01]\n",
      " [-1.09219061e+00  5.04285335e-01]\n",
      " [ 3.78883243e-01 -1.77448366e-01]\n",
      " [-7.97975837e-01 -6.51697898e-01]\n",
      " [-1.09219061e+00 -1.54091577e+00]\n",
      " [ 2.04610027e+00 -1.36307219e+00]\n",
      " [-6.99904247e-01 -2.07088962e-01]\n",
      " [-1.19026220e+00 -1.06666624e+00]\n",
      " [ 2.14417186e+00 -1.18522862e+00]\n",
      " [-8.96047427e-01 -9.48103855e-01]\n",
      " [ 1.82740063e-01  2.37519974e-01]\n",
      " [ 9.67312783e-01  1.12673784e+00]\n",
      " [ 1.45767073e+00  2.04559631e+00]\n",
      " [-7.97975837e-01 -7.70260280e-01]\n",
      " [-9.94119017e-01  2.01595572e+00]\n",
      " [-1.28833379e+00 -4.14573132e-01]\n",
      " [ 2.80811653e-01  8.93169951e-02]\n",
      " [-1.58254856e+00 -1.57055636e+00]\n",
      " [ 1.94802868e+00 -1.27415041e+00]\n",
      " [-6.99904247e-01  1.95667452e+00]\n",
      " [ 1.06538437e+00  1.48242499e+00]\n",
      " [ 2.80811653e-01 -3.55291941e-01]\n",
      " [-2.09546297e-01  1.78238782e-01]\n",
      " [-8.96047427e-01 -7.40619685e-01]\n",
      " [-1.34031173e-02  1.48598186e-01]\n",
      " [-2.09546297e-01 -1.24450981e+00]\n",
      " [-1.34031173e-02  2.96801165e-01]\n",
      " [-5.03761067e-01  1.51206559e+00]\n",
      " [-7.97975837e-01  1.78238782e-01]\n",
      " [-6.99904247e-01 -1.54091577e+00]\n",
      " [-1.19026220e+00  2.96801165e-01]\n",
      " [ 2.80811653e-01  1.12673784e+00]\n",
      " [-1.28833379e+00 -1.48163458e+00]\n",
      " [ 3.78883243e-01  8.93169951e-02]\n",
      " [ 8.46684727e-02 -2.36729558e-01]\n",
      " [-1.11474707e-01  2.22343989e+00]\n",
      " [ 4.76954833e-01 -1.47807771e-01]\n",
      " [ 1.06538437e+00 -1.06666624e+00]\n",
      " [ 1.06538437e+00 -1.15558802e+00]\n",
      " [-1.38640538e+00 -1.45199398e+00]\n",
      " [ 1.75188550e+00  1.80847155e+00]\n",
      " [-7.97975837e-01  2.34200227e+00]\n",
      " [ 4.76954833e-01 -1.18167175e-01]\n",
      " [-9.94119017e-01 -4.44213728e-01]\n",
      " [-1.34031173e-02 -4.14573132e-01]\n",
      " [-1.19026220e+00 -1.39271279e+00]\n",
      " [ 2.14417186e+00  2.19379929e+00]\n",
      " [ 4.76954833e-01 -4.44213728e-01]\n",
      " [-9.94119017e-01 -1.54091577e+00]\n",
      " [ 9.67312783e-01 -5.92416706e-01]\n",
      " [-8.96047427e-01 -2.96010749e-01]\n",
      " [-4.05689477e-01  3.95207943e-04]\n",
      " [-6.01832657e-01 -2.92453878e-02]\n",
      " [-2.09546297e-01 -1.36307219e+00]\n",
      " [-2.09546297e-01 -1.39271279e+00]\n",
      " [ 1.94802868e+00 -1.06666624e+00]\n",
      " [-6.99904247e-01  1.12673784e+00]\n",
      " [ 8.69241193e-01 -1.36307219e+00]\n",
      " [ 3.78883243e-01 -2.66370153e-01]\n",
      " [-4.05689477e-01 -8.29541472e-01]\n",
      " [-4.05689477e-01 -2.66370153e-01]\n",
      " [ 9.67312783e-01 -6.51697898e-01]\n",
      " [-8.96047427e-01 -4.14573132e-01]\n",
      " [ 7.71169603e-01 -1.09630683e+00]\n",
      " [-2.09546297e-01  1.78238782e-01]\n",
      " [ 2.14417186e+00 -7.99900876e-01]\n",
      " [ 9.67312783e-01 -5.62776110e-01]\n",
      " [ 9.67312783e-01 -5.33135515e-01]\n",
      " [-2.09546297e-01  2.96801165e-01]\n",
      " [ 1.82740063e-01 -7.99900876e-01]\n",
      " [ 2.80811653e-01  2.67160569e-01]\n",
      " [-1.38640538e+00 -6.22057302e-01]\n",
      " [ 1.82740063e-01  1.78238782e-01]\n",
      " [-2.09546297e-01 -3.55291941e-01]\n",
      " [ 1.75188550e+00 -8.88822663e-01]\n",
      " [-6.01832657e-01  5.96763994e-02]\n",
      " [-8.96047427e-01  1.60098738e+00]\n",
      " [ 4.76954833e-01  3.26441761e-01]\n",
      " [ 2.80811653e-01 -2.96010749e-01]\n",
      " [ 1.06538437e+00  1.48598186e-01]\n",
      " [-1.58254856e+00  5.63566526e-01]\n",
      " [ 1.55574232e+00  8.93169951e-02]\n",
      " [-9.94119017e-01 -3.25651345e-01]\n",
      " [-2.09546297e-01 -6.51697898e-01]\n",
      " [-8.96047427e-01  5.93207122e-01]\n",
      " [-1.09219061e+00  3.26441761e-01]\n",
      " [-5.03761067e-01  1.42314380e+00]\n",
      " [ 4.76954833e-01  1.78238782e-01]\n",
      " [-4.05689477e-01  2.37164286e+00]\n",
      " [ 3.78883243e-01  3.26441761e-01]\n",
      " [-6.01832657e-01 -3.25651345e-01]\n",
      " [ 1.82740063e-01  1.92703393e+00]\n",
      " [-9.94119017e-01 -1.45199398e+00]\n",
      " [-7.97975837e-01  4.15363548e-01]\n",
      " [-1.77869174e+00  3.00358036e-02]\n",
      " [-1.77869174e+00  4.74644739e-01]\n",
      " [-7.97975837e-01 -2.36729558e-01]\n",
      " [ 1.82740063e-01  1.92703393e+00]\n",
      " [-6.01832657e-01  2.07879378e-01]\n",
      " [ 3.78883243e-01  8.93169951e-02]\n",
      " [-1.09219061e+00  3.26441761e-01]\n",
      " [ 2.80811653e-01 -2.36729558e-01]\n",
      " [-2.09546297e-01 -1.30379100e+00]\n",
      " [ 1.06538437e+00  8.00691292e-01]\n",
      " [ 4.76954833e-01  2.37164286e+00]\n",
      " [-8.96047427e-01  2.96801165e-01]\n",
      " [ 1.35959914e+00  1.92703393e+00]\n",
      " [-4.05689477e-01 -1.21486922e+00]\n",
      " [ 4.76954833e-01 -4.44213728e-01]\n",
      " [ 7.71169603e-01 -1.39271279e+00]\n",
      " [-1.34031173e-02 -3.55291941e-01]\n",
      " [-3.07617887e-01  1.27494082e+00]\n",
      " [-2.09546297e-01 -8.88822663e-01]\n",
      " [-1.48447697e+00 -1.24450981e+00]\n",
      " [-2.09546297e-01  8.93169951e-02]\n",
      " [ 1.82740063e-01 -2.96010749e-01]\n",
      " [-1.68062015e+00  1.48598186e-01]\n",
      " [ 8.69241193e-01 -1.09630683e+00]\n",
      " [-1.09219061e+00 -7.70260280e-01]\n",
      " [-7.97975837e-01  4.15363548e-01]\n",
      " [ 1.75188550e+00  1.66026857e+00]\n",
      " [-1.34031173e-02  2.28272108e+00]\n",
      " [ 7.71169603e-01  1.83811214e+00]\n",
      " [-4.05689477e-01 -7.70260280e-01]\n",
      " [ 3.78883243e-01 -7.10979089e-01]\n",
      " [ 4.76954833e-01  2.96801165e-01]\n",
      " [-1.34031173e-02  2.01595572e+00]\n",
      " [-1.28833379e+00  4.45004144e-01]\n",
      " [-5.03761067e-01 -1.51127517e+00]\n",
      " [ 1.84995709e+00  1.03781606e+00]\n",
      " [ 1.16345596e+00 -8.88822663e-01]\n",
      " [-8.96047427e-01  4.74644739e-01]\n",
      " [ 1.55574232e+00  2.19379929e+00]\n",
      " [-6.99904247e-01  5.93207122e-01]\n",
      " [ 1.94802868e+00 -2.66370153e-01]\n",
      " [ 2.80811653e-01  1.78238782e-01]\n",
      " [ 3.78883243e-01  2.96801165e-01]\n",
      " [-1.68062015e+00  3.85722952e-01]\n",
      " [-1.48447697e+00 -4.14573132e-01]\n",
      " [-2.09546297e-01  5.63566526e-01]\n",
      " [ 1.65381391e+00  3.00358036e-02]\n",
      " [-6.01832657e-01 -1.60019696e+00]\n",
      " [ 1.26152755e+00 -9.77744450e-01]\n",
      " [ 4.76954833e-01 -1.18167175e-01]\n",
      " [-3.07617887e-01 -7.70260280e-01]\n",
      " [ 4.76954833e-01  1.15637844e+00]\n",
      " [ 1.65381391e+00 -1.27415041e+00]\n",
      " [-1.77869174e+00 -1.42235339e+00]\n",
      " [-1.11474707e-01 -5.62776110e-01]\n",
      " [-1.34031173e-02  3.00358036e-02]\n",
      " [-1.11474707e-01  1.68990916e+00]\n",
      " [ 9.67312783e-01 -1.45199398e+00]\n",
      " [-6.99904247e-01  2.96801165e-01]\n",
      " [ 2.14417186e+00  4.15363548e-01]\n",
      " [-7.97975837e-01  3.26441761e-01]\n",
      " [ 5.75026423e-01  1.27494082e+00]\n",
      " [ 8.46684727e-02  3.26441761e-01]\n",
      " [ 2.04610027e+00  2.22343989e+00]\n",
      " [-1.11474707e-01  1.66026857e+00]\n",
      " [ 1.16345596e+00 -1.21486922e+00]\n",
      " [-1.87676333e+00 -5.03494919e-01]\n",
      " [-6.99904247e-01 -1.60019696e+00]\n",
      " [ 2.14417186e+00  5.63566526e-01]\n",
      " [-9.94119017e-01 -3.55291941e-01]\n",
      " [ 8.46684727e-02  5.96763994e-02]\n",
      " [-6.01832657e-01  5.93207122e-01]\n",
      " [ 9.67312783e-01 -1.03702564e+00]\n",
      " [-6.01832657e-01  1.48598186e-01]\n",
      " [-1.34031173e-02  8.93169951e-02]\n",
      " [ 2.80811653e-01 -3.55291941e-01]\n",
      " [ 2.14417186e+00  1.80847155e+00]\n",
      " [ 1.16345596e+00 -1.18167175e-01]\n",
      " [ 1.06538437e+00  6.22847718e-01]\n",
      " [ 8.69241193e-01 -1.39271279e+00]\n",
      " [ 1.65381391e+00  1.03781606e+00]\n",
      " [-2.09546297e-01 -1.45199398e+00]\n",
      " [ 1.16345596e+00  2.13451810e+00]\n",
      " [ 1.06538437e+00 -8.29541472e-01]\n",
      " [-2.09546297e-01 -4.14573132e-01]\n",
      " [-1.11474707e-01 -2.66370153e-01]\n",
      " [-5.03761067e-01  2.40128346e+00]\n",
      " [-1.87676333e+00 -2.92453878e-02]\n",
      " [-1.28833379e+00 -4.14573132e-01]\n",
      " [ 4.76954833e-01  6.22847718e-01]\n",
      " [ 8.46684727e-02 -2.96010749e-01]\n",
      " [ 2.24224345e+00  1.15637844e+00]\n",
      " [-1.48447697e+00 -1.77448366e-01]\n",
      " [-1.28833379e+00 -1.09630683e+00]\n",
      " [ 8.69241193e-01 -2.96010749e-01]\n",
      " [ 1.06538437e+00  1.92703393e+00]\n",
      " [ 3.78883243e-01  8.93169951e-02]\n",
      " [ 1.26152755e+00 -7.40619685e-01]\n",
      " [ 8.46684727e-02  5.96763994e-02]\n",
      " [-1.28833379e+00 -1.36307219e+00]\n",
      " [-2.09546297e-01 -2.36729558e-01]\n",
      " [-1.34031173e-02  3.26441761e-01]\n",
      " [-1.28833379e+00 -1.24450981e+00]\n",
      " [-1.09219061e+00  4.45004144e-01]\n",
      " [-3.07617887e-01 -1.30379100e+00]\n",
      " [-1.11474707e-01 -4.44213728e-01]\n",
      " [-1.58254856e+00 -2.92453878e-02]\n",
      " [ 3.78883243e-01  5.96763994e-02]\n",
      " [ 2.24224345e+00 -7.99900876e-01]\n",
      " [ 1.45767073e+00  6.22847718e-01]\n",
      " [-1.68062015e+00 -1.36307219e+00]\n",
      " [ 1.35959914e+00 -1.36307219e+00]\n",
      " [ 8.69241193e-01  2.96801165e-01]\n",
      " [-6.99904247e-01 -5.92416706e-01]]\n"
     ]
    }
   ],
   "source": [
    "print(X_train)"
   ]
  },
  {
   "cell_type": "code",
   "execution_count": 10,
   "metadata": {
    "colab": {
     "base_uri": "https://localhost:8080/",
     "height": 51
    },
    "colab_type": "code",
    "id": "sTXykB_QlRjE",
    "outputId": "b68f0cfc-d07c-48cb-80d0-6800028c41f9"
   },
   "outputs": [
    {
     "name": "stdout",
     "output_type": "stream",
     "text": [
      "[[-0.11147471 -1.06666624]\n",
      " [ 0.18274006 -0.23672956]\n",
      " [-0.11147471  1.4527844 ]\n",
      " [ 0.18274006  1.57134678]\n",
      " [-1.09219061  1.4527844 ]\n",
      " [ 0.08466847 -0.11816717]\n",
      " [-1.68062015 -0.97774445]\n",
      " [ 1.16345596  0.59320712]\n",
      " [-0.60183266 -1.51127517]\n",
      " [ 1.06538437  2.1345181 ]\n",
      " [-0.30761789  0.089317  ]\n",
      " [ 0.18274006  0.11895759]\n",
      " [-0.2095463   0.089317  ]\n",
      " [ 1.06538437  1.83811214]\n",
      " [ 1.55574232  0.38572295]\n",
      " [ 1.84995709  1.89739333]\n",
      " [ 2.24224345  0.41536355]\n",
      " [-0.99411902 -0.32565134]\n",
      " [-0.89604743  0.53392593]\n",
      " [ 2.24224345  0.97853487]\n",
      " [ 0.28081165  0.17823878]\n",
      " [ 1.26152755  0.56356653]\n",
      " [ 0.67309801  2.07523691]\n",
      " [ 0.96731278 -0.77026028]\n",
      " [ 0.7711696  -1.27415041]\n",
      " [-1.09219061 -1.60019696]\n",
      " [ 2.04610027 -0.6516979 ]\n",
      " [ 1.16345596  0.14859819]\n",
      " [ 1.55574232 -1.03702564]\n",
      " [ 1.45767073  1.33422201]\n",
      " [ 0.18274006 -0.79990088]\n",
      " [-1.77869174  0.20787938]\n",
      " [-1.87676333  0.50428533]\n",
      " [ 1.94802868  0.14859819]\n",
      " [-0.99411902  0.44500414]\n",
      " [-0.69990425  0.32644176]\n",
      " [-1.48447697 -1.51127517]\n",
      " [-0.50376107  0.50428533]\n",
      " [ 1.26152755 -1.45199398]\n",
      " [-1.77869174 -1.303791  ]\n",
      " [ 0.96731278  2.22343989]\n",
      " [ 2.04610027  0.94889427]\n",
      " [-0.30761789  1.36386261]\n",
      " [-1.38640538 -0.08852658]\n",
      " [ 1.84995709 -0.26637015]\n",
      " [-0.60183266  1.4527844 ]\n",
      " [ 1.06538437 -1.00738505]\n",
      " [ 0.96731278  1.30458142]\n",
      " [ 0.18274006  0.29680117]\n",
      " [ 1.45767073 -0.91846326]\n",
      " [-1.28833379 -0.32565134]\n",
      " [-0.01340312 -0.47385432]\n",
      " [ 0.47695483  0.32644176]\n",
      " [ 0.86924119 -1.21486922]\n",
      " [ 0.47695483  0.11895759]\n",
      " [-0.01340312 -0.20708896]\n",
      " [ 2.24224345 -0.79990088]\n",
      " [-0.11147471 -0.50349492]\n",
      " [ 2.04610027  0.7710507 ]\n",
      " [ 0.57502642  1.77883095]\n",
      " [-0.99411902  0.59320712]\n",
      " [-1.38640538  0.38572295]\n",
      " [ 0.08466847  1.27494082]\n",
      " [-0.2095463  -0.56277611]\n",
      " [-0.11147471  0.88961308]\n",
      " [-0.01340312  2.22343989]\n",
      " [-1.09219061 -1.00738505]\n",
      " [ 0.47695483  0.0300358 ]\n",
      " [ 0.57502642  1.89739333]\n",
      " [ 0.08466847 -0.56277611]\n",
      " [ 0.86924119  0.80069129]\n",
      " [-0.2095463  -0.74061968]\n",
      " [ 0.08466847  1.30458142]\n",
      " [ 0.18274006  0.0596764 ]\n",
      " [-1.09219061 -0.50349492]\n",
      " [ 1.65381391  1.15637844]\n",
      " [-0.40568948 -0.53313551]\n",
      " [-1.09219061 -1.57055636]\n",
      " [-0.69990425  0.53392593]\n",
      " [-0.2095463  -0.26637015]\n",
      " [-0.79797584 -1.21486922]\n",
      " [ 0.7711696  -1.39271279]\n",
      " [ 0.86924119  1.4231438 ]\n",
      " [-0.50376107 -1.51127517]\n",
      " [-1.48447697  0.35608236]\n",
      " [-1.1902622   0.53392593]\n",
      " [ 1.06538437 -1.06666624]\n",
      " [-0.2095463  -0.32565134]\n",
      " [ 0.96731278 -1.36307219]\n",
      " [-1.09219061 -1.09630683]\n",
      " [-0.50376107  1.95667452]\n",
      " [ 2.24224345 -1.03702564]\n",
      " [ 1.45767073 -1.42235339]\n",
      " [ 0.08466847 -0.41457313]\n",
      " [-1.1902622   0.62284772]\n",
      " [ 2.04610027 -0.91846326]\n",
      " [ 1.16345596  0.56356653]\n",
      " [-0.01340312  0.26716057]\n",
      " [-0.2095463   0.23751997]\n",
      " [-0.30761789 -0.77026028]]\n"
     ]
    }
   ],
   "source": [
    "print(X_test)"
   ]
  },
  {
   "cell_type": "markdown",
   "metadata": {},
   "source": [
    "# Train the logistic Regression model on the Training set "
   ]
  },
  {
   "cell_type": "code",
   "execution_count": 11,
   "metadata": {},
   "outputs": [
    {
     "data": {
      "text/plain": [
       "LogisticRegression(random_state=0)"
      ]
     },
     "execution_count": 11,
     "metadata": {},
     "output_type": "execute_result"
    }
   ],
   "source": [
    "from sklearn.linear_model import LogisticRegression\n",
    "classification = LogisticRegression(random_state = 0)\n",
    "classification.fit(X_train, y_train)"
   ]
  },
  {
   "cell_type": "markdown",
   "metadata": {},
   "source": [
    "# Predict a new result"
   ]
  },
  {
   "cell_type": "code",
   "execution_count": 12,
   "metadata": {},
   "outputs": [
    {
     "name": "stdout",
     "output_type": "stream",
     "text": [
      "[1]\n"
     ]
    }
   ],
   "source": [
    "prediction = classification.predict(sc.transform([[50, 78000]]))\n",
    "print(prediction)"
   ]
  },
  {
   "cell_type": "markdown",
   "metadata": {},
   "source": [
    "# Predicting the Test set results"
   ]
  },
  {
   "cell_type": "code",
   "execution_count": 23,
   "metadata": {},
   "outputs": [
    {
     "name": "stdout",
     "output_type": "stream",
     "text": [
      "[[0 0]\n",
      " [0 0]\n",
      " [1 1]\n",
      " [1 1]\n",
      " [0 0]\n",
      " [0 0]\n",
      " [0 0]\n",
      " [1 1]\n",
      " [0 0]\n",
      " [1 0]\n",
      " [0 0]\n",
      " [0 0]\n",
      " [0 0]\n",
      " [1 1]\n",
      " [1 1]\n",
      " [1 1]\n",
      " [1 1]\n",
      " [0 0]\n",
      " [0 0]\n",
      " [1 1]\n",
      " [0 0]\n",
      " [1 1]\n",
      " [1 1]\n",
      " [0 0]\n",
      " [0 1]\n",
      " [0 0]\n",
      " [1 1]\n",
      " [1 0]\n",
      " [1 1]\n",
      " [1 0]\n",
      " [0 0]\n",
      " [0 0]\n",
      " [0 0]\n",
      " [1 1]\n",
      " [0 0]\n",
      " [0 0]\n",
      " [0 0]\n",
      " [0 0]\n",
      " [0 1]\n",
      " [0 0]\n",
      " [1 1]\n",
      " [1 1]\n",
      " [0 0]\n",
      " [0 0]\n",
      " [1 1]\n",
      " [0 1]\n",
      " [0 1]\n",
      " [1 1]\n",
      " [0 0]\n",
      " [1 1]\n",
      " [0 0]\n",
      " [0 0]\n",
      " [1 1]\n",
      " [0 1]\n",
      " [0 1]\n",
      " [0 0]\n",
      " [1 1]\n",
      " [0 0]\n",
      " [1 1]\n",
      " [1 1]\n",
      " [0 0]\n",
      " [0 0]\n",
      " [1 0]\n",
      " [0 0]\n",
      " [0 1]\n",
      " [1 1]\n",
      " [0 0]\n",
      " [0 0]\n",
      " [1 0]\n",
      " [0 0]\n",
      " [1 0]\n",
      " [0 0]\n",
      " [1 1]\n",
      " [0 0]\n",
      " [0 0]\n",
      " [1 1]\n",
      " [0 0]\n",
      " [0 0]\n",
      " [0 0]\n",
      " [0 0]\n",
      " [0 0]\n",
      " [0 1]\n",
      " [1 1]\n",
      " [0 0]\n",
      " [0 0]\n",
      " [0 0]\n",
      " [0 1]\n",
      " [0 0]\n",
      " [0 1]\n",
      " [0 0]\n",
      " [1 1]\n",
      " [1 1]\n",
      " [1 1]\n",
      " [0 0]\n",
      " [0 0]\n",
      " [1 1]\n",
      " [1 1]\n",
      " [0 1]\n",
      " [0 0]\n",
      " [0 0]]\n"
     ]
    }
   ],
   "source": [
    "y_pred = classification.predict(X_test) # predict ger bara Ja eller Nej\n",
    "print(np.concatenate((y_pred.reshape(len(y_pred),1),y_test.reshape(len(y_test),1)),1))"
   ]
  },
  {
   "cell_type": "markdown",
   "metadata": {},
   "source": [
    "# Making the Confusion Matrix"
   ]
  },
  {
   "cell_type": "code",
   "execution_count": 14,
   "metadata": {},
   "outputs": [
    {
     "name": "stdout",
     "output_type": "stream",
     "text": [
      "[[52  6]\n",
      " [11 31]]\n"
     ]
    },
    {
     "data": {
      "text/plain": [
       "0.83"
      ]
     },
     "execution_count": 14,
     "metadata": {},
     "output_type": "execute_result"
    }
   ],
   "source": [
    "from sklearn.metrics import confusion_matrix, accuracy_score\n",
    "cm = confusion_matrix(y_test, y_pred)\n",
    "print(cm)\n",
    "accuracy_score(y_test, y_pred)"
   ]
  },
  {
   "cell_type": "markdown",
   "metadata": {},
   "source": [
    "# Visualisation of the Training set results"
   ]
  },
  {
   "cell_type": "code",
   "execution_count": 21,
   "metadata": {},
   "outputs": [
    {
     "name": "stderr",
     "output_type": "stream",
     "text": [
      "*c* argument looks like a single numeric RGB or RGBA sequence, which should be avoided as value-mapping will have precedence in case its length matches with *x* & *y*.  Please use the *color* keyword-argument or provide a 2D array with a single row if you intend to specify the same RGB or RGBA value for all points.\n",
      "*c* argument looks like a single numeric RGB or RGBA sequence, which should be avoided as value-mapping will have precedence in case its length matches with *x* & *y*.  Please use the *color* keyword-argument or provide a 2D array with a single row if you intend to specify the same RGB or RGBA value for all points.\n"
     ]
    },
    {
     "data": {
      "image/png": "[encoded data removed]",
      "text/plain": [
       "<Figure size 432x288 with 1 Axes>"
      ]
     },
     "metadata": {
      "needs_background": "light"
     },
     "output_type": "display_data"
    }
   ],
   "source": [
    "from matplotlib.colors import ListedColormap\n",
    "X_set, y_set = sc.inverse_transform(X_train), y_train\n",
    "\n",
    "X1, X2 = np.meshgrid(np.arange(start = X_set[:, 0].min() - 10, stop = X_set[:, 0].max() + 10, step = 0.25),\n",
    "                     np.arange(start = X_set[:, 1].min() - 1000, stop = X_set[:, 1].max() + 1000, step = 1))\n",
    "\n",
    "plt.contourf(X1, X2, classification.predict(sc.transform(np.array([X1.ravel(), X2.ravel()]).T)).reshape(X1.shape),\n",
    "             alpha = 0.75, cmap = ListedColormap(('red','green')))\n",
    "\n",
    "plt.xlim(X1.min(), X1.max())\n",
    "plt.ylim(X2.min(), X2.max())\n",
    "\n",
    "for i, j in enumerate(np.unique(y_set)):\n",
    "    plt.scatter(X_set[y_set == j, 0], X_set[y_set == j, 1], c = ListedColormap(('red', 'green'))(i), label = j)\n",
    "    \n",
    "plt.title('Logistic Regression (Training set)')\n",
    "plt.xlabel('Age')\n",
    "plt.ylabel('Estimated Salary')\n",
    "plt.show()"
   ]
  },
  {
   "cell_type": "markdown",
   "metadata": {},
   "source": [
    "# Visualisation of the Test set results"
   ]
  },
  {
   "cell_type": "code",
   "execution_count": 20,
   "metadata": {},
   "outputs": [
    {
     "name": "stderr",
     "output_type": "stream",
     "text": [
      "*c* argument looks like a single numeric RGB or RGBA sequence, which should be avoided as value-mapping will have precedence in case its length matches with *x* & *y*.  Please use the *color* keyword-argument or provide a 2D array with a single row if you intend to specify the same RGB or RGBA value for all points.\n",
      "*c* argument looks like a single numeric RGB or RGBA sequence, which should be avoided as value-mapping will have precedence in case its length matches with *x* & *y*.  Please use the *color* keyword-argument or provide a 2D array with a single row if you intend to specify the same RGB or RGBA value for all points.\n"
     ]
    },
    {
     "data": {
      "image/png": "[encoded data removed]",
      "text/plain": [
       "<Figure size 432x288 with 1 Axes>"
      ]
     },
     "metadata": {
      "needs_background": "light"
     },
     "output_type": "display_data"
    }
   ],
   "source": [
    "from matplotlib.colors import ListedColormap\n",
    "X_set, y_set = sc.inverse_transform(X_test), y_test\n",
    "X1, X2 = np.meshgrid(np.arange(start = X_set[:, 0].min() - 10, stop = X_set[:, 0].max() + 10, step = 0.25),\n",
    "                     np.arange(start = X_set[:, 1].min() - 1000, stop = X_set[:, 1].max() + 1000, step = 1))\n",
    "plt.contourf(X1, X2, classification.predict(sc.transform(np.array([X1.ravel(), X2.ravel()]).T)).reshape(X1.shape),\n",
    "             alpha = 0.75, cmap = ListedColormap(('red','green')))\n",
    "plt.xlim(X1.min(), X1.max())\n",
    "plt.ylim(X2.min(), X2.max())\n",
    "\n",
    "for i, j in enumerate(np.unique(y_set)):\n",
    "    plt.scatter(X_set[y_set == j, 0], X_set[y_set == j, 1], c = ListedColormap(('red', 'green'))(i), label = j)\n",
    "    \n",
    "plt.title('Logistic Regression (Test set)')\n",
    "plt.xlabel('Age')\n",
    "plt.ylabel('Estimated Salary')\n",
    "plt.show()"
   ]
  },
  {
   "cell_type": "code",
   "execution_count": null,
   "metadata": {},
   "outputs": [],
   "source": []
  }
 ],
 "metadata": {
  "colab": {
   "collapsed_sections": [],
   "name": "data_preprocessing_tools.ipynb",
   "provenance": [],
   "toc_visible": true
  },
  "kernelspec": {
   "display_name": "Python 3 (ipykernel)",
   "language": "python",
   "name": "python3"
  },
  "language_info": {
   "codemirror_mode": {
    "name": "ipython",
    "version": 3
   },
   "file_extension": ".py",
   "mimetype": "text/x-python",
   "name": "python",
   "nbconvert_exporter": "python",
   "pygments_lexer": "ipython3",
   "version": "3.9.12"
  }
 },
 "nbformat": 4,
 "nbformat_minor": 4
}
