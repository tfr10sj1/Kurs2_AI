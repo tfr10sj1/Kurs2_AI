{
 "cells": [
  {
   "cell_type": "markdown",
   "id": "9a7a0624",
   "metadata": {},
   "source": [
    "# Multiple Linear Regression"
   ]
  },
  {
   "cell_type": "markdown",
   "id": "e3303185",
   "metadata": {},
   "source": [
    "## Importing the libraries"
   ]
  },
  {
   "cell_type": "code",
   "execution_count": 5,
   "id": "2f9e6ffa",
   "metadata": {},
   "outputs": [],
   "source": [
    "import numpy as np\n",
    "import matplotlib.pyplot as plt\n",
    "import pandas as pd"
   ]
  },
  {
   "cell_type": "markdown",
   "id": "729b4b79",
   "metadata": {},
   "source": [
    "## Importing the dataset"
   ]
  },
  {
   "cell_type": "code",
   "execution_count": 6,
   "id": "1b1de85d",
   "metadata": {
    "scrolled": true
   },
   "outputs": [],
   "source": [
    "dataset = pd.read_csv('diabetes.csv')\n",
    "X = dataset.iloc[:, :-1].values\n",
    "y = dataset.iloc[:, -1].values"
   ]
  },
  {
   "cell_type": "markdown",
   "id": "8dbde87a",
   "metadata": {},
   "source": [
    "## Splitting the dataset into the Training set and Test set"
   ]
  },
  {
   "cell_type": "code",
   "execution_count": 7,
   "id": "3362a080",
   "metadata": {},
   "outputs": [],
   "source": [
    "from sklearn.model_selection import train_test_split\n",
    "X_train, X_test, y_train, y_test = train_test_split(X, y, test_size = 0.2, random_state = 0)"
   ]
  },
  {
   "cell_type": "markdown",
   "id": "6cccdc71",
   "metadata": {},
   "source": [
    "## Training the Multiple Linear Regression model on the Training set"
   ]
  },
  {
   "cell_type": "code",
   "execution_count": 12,
   "id": "f2b2ab63",
   "metadata": {},
   "outputs": [
    {
     "data": {
      "text/plain": [
       "LinearRegression()"
      ]
     },
     "execution_count": 12,
     "metadata": {},
     "output_type": "execute_result"
    }
   ],
   "source": [
    "from sklearn.linear_model import LinearRegression\n",
    "regressor = LinearRegression()\n",
    "regressor.fit(X_train, y_train)"
   ]
  },
  {
   "cell_type": "markdown",
   "id": "041ad62b",
   "metadata": {},
   "source": [
    "## Predicting the Test set results"
   ]
  },
  {
   "cell_type": "code",
   "execution_count": 14,
   "id": "4767e06d",
   "metadata": {
    "scrolled": true
   },
   "outputs": [
    {
     "name": "stdout",
     "output_type": "stream",
     "text": [
      "[[ 1.   1. ]\n",
      " [ 0.2  0. ]\n",
      " [ 0.1  0. ]\n",
      " [ 0.6  1. ]\n",
      " [ 0.2  0. ]\n",
      " [-0.1  0. ]\n",
      " [ 0.7  1. ]\n",
      " [ 0.8  1. ]\n",
      " [ 0.4  0. ]\n",
      " [ 0.4  0. ]\n",
      " [ 0.5  1. ]\n",
      " [ 1.   1. ]\n",
      " [ 0.4  0. ]\n",
      " [ 0.2  0. ]\n",
      " [ 0.2  0. ]\n",
      " [ 0.2  0. ]\n",
      " [ 0.8  1. ]\n",
      " [-0.1  0. ]\n",
      " [ 0.5  0. ]\n",
      " [ 0.3  0. ]\n",
      " [ 0.6  1. ]\n",
      " [ 0.4  1. ]\n",
      " [ 0.3  0. ]\n",
      " [ 0.   0. ]\n",
      " [ 0.   0. ]\n",
      " [ 0.4  0. ]\n",
      " [-0.   0. ]\n",
      " [ 0.9  0. ]\n",
      " [ 0.2  0. ]\n",
      " [ 0.2  0. ]\n",
      " [ 0.5  0. ]\n",
      " [ 0.3  0. ]\n",
      " [ 0.1  0. ]\n",
      " [ 0.5  0. ]\n",
      " [ 0.1  0. ]\n",
      " [ 0.7  1. ]\n",
      " [ 0.5  1. ]\n",
      " [ 0.1  0. ]\n",
      " [ 0.4  0. ]\n",
      " [ 0.7  0. ]\n",
      " [ 0.3  0. ]\n",
      " [ 0.3  0. ]\n",
      " [ 0.2  0. ]\n",
      " [ 0.8  1. ]\n",
      " [ 0.7  1. ]\n",
      " [-0.3  0. ]\n",
      " [ 0.1  0. ]\n",
      " [ 0.3  1. ]\n",
      " [ 0.4  1. ]\n",
      " [ 0.4  1. ]\n",
      " [ 0.4  0. ]\n",
      " [ 0.2  0. ]\n",
      " [ 0.8  1. ]\n",
      " [ 0.5  0. ]\n",
      " [ 0.2  0. ]\n",
      " [-0.5  0. ]\n",
      " [ 0.   0. ]\n",
      " [ 0.5  1. ]\n",
      " [ 0.3  1. ]\n",
      " [ 0.1  1. ]\n",
      " [ 0.7  1. ]\n",
      " [ 0.5  0. ]\n",
      " [ 0.1  0. ]\n",
      " [ 0.7  1. ]\n",
      " [ 0.6  1. ]\n",
      " [ 0.9  1. ]\n",
      " [ 0.7  1. ]\n",
      " [ 0.2  0. ]\n",
      " [ 0.4  0. ]\n",
      " [ 0.1  0. ]\n",
      " [ 0.2  0. ]\n",
      " [ 0.5  0. ]\n",
      " [ 0.1  0. ]\n",
      " [ 1.   0. ]\n",
      " [ 0.8  1. ]\n",
      " [ 0.4  0. ]\n",
      " [ 0.1  0. ]\n",
      " [ 0.6  0. ]\n",
      " [ 0.1  0. ]\n",
      " [ 0.2  0. ]\n",
      " [ 0.4  0. ]\n",
      " [ 0.4  0. ]\n",
      " [ 0.3  0. ]\n",
      " [-0.1  0. ]\n",
      " [ 0.3  0. ]\n",
      " [ 0.3  0. ]\n",
      " [ 0.4  1. ]\n",
      " [ 0.4  0. ]\n",
      " [ 0.8  1. ]\n",
      " [ 0.2  0. ]\n",
      " [ 0.2  0. ]\n",
      " [ 0.2  0. ]\n",
      " [ 0.3  0. ]\n",
      " [-0.   0. ]\n",
      " [ 0.6  0. ]\n",
      " [ 0.2  0. ]\n",
      " [ 0.4  1. ]\n",
      " [ 0.5  0. ]\n",
      " [ 0.6  1. ]\n",
      " [ 0.3  1. ]\n",
      " [ 0.3  0. ]\n",
      " [ 0.1  0. ]\n",
      " [ 0.3  0. ]\n",
      " [-0.   0. ]\n",
      " [ 0.6  0. ]\n",
      " [ 0.4  1. ]\n",
      " [ 0.2  0. ]\n",
      " [ 0.4  0. ]\n",
      " [-0.   0. ]\n",
      " [ 0.7  1. ]\n",
      " [ 0.1  0. ]\n",
      " [ 0.3  1. ]\n",
      " [ 0.6  1. ]\n",
      " [ 0.4  1. ]\n",
      " [ 0.5  1. ]\n",
      " [ 0.6  1. ]\n",
      " [ 0.1  0. ]\n",
      " [ 0.6  0. ]\n",
      " [ 0.1  0. ]\n",
      " [ 0.7  1. ]\n",
      " [ 0.4  0. ]\n",
      " [ 0.4  0. ]\n",
      " [ 0.3  0. ]\n",
      " [ 0.5  0. ]\n",
      " [ 0.3  0. ]\n",
      " [-0.   0. ]\n",
      " [ 0.4  0. ]\n",
      " [ 0.4  1. ]\n",
      " [ 0.5  0. ]\n",
      " [ 0.4  0. ]\n",
      " [ 0.4  0. ]\n",
      " [-0.   0. ]\n",
      " [ 0.   0. ]\n",
      " [ 0.7  1. ]\n",
      " [ 0.3  0. ]\n",
      " [ 0.4  1. ]\n",
      " [ 0.2  0. ]\n",
      " [ 0.4  1. ]\n",
      " [ 0.6  1. ]\n",
      " [ 0.3  0. ]\n",
      " [ 0.1  0. ]\n",
      " [ 0.5  0. ]\n",
      " [ 0.1  0. ]\n",
      " [ 0.1  0. ]\n",
      " [ 0.4  1. ]\n",
      " [ 0.1  0. ]\n",
      " [ 0.1  0. ]\n",
      " [ 0.1  0. ]\n",
      " [ 0.2  0. ]\n",
      " [ 0.2  1. ]\n",
      " [ 0.1  0. ]\n",
      " [ 0.6  1. ]\n",
      " [ 0.1  0. ]\n",
      " [ 0.2  0. ]]\n"
     ]
    }
   ],
   "source": [
    "y_pred = regressor.predict(X_test)\n",
    "np.set_printoptions(precision=1)\n",
    "print(np.concatenate((y_pred.reshape(len(y_pred),1), y_test.reshape(len(y_test),1)),1))"
   ]
  },
  {
   "cell_type": "code",
   "execution_count": null,
   "id": "ef178ea8",
   "metadata": {},
   "outputs": [],
   "source": []
  }
 ],
 "metadata": {
  "kernelspec": {
   "display_name": "Python 3 (ipykernel)",
   "language": "python",
   "name": "python3"
  },
  "language_info": {
   "codemirror_mode": {
    "name": "ipython",
    "version": 3
   },
   "file_extension": ".py",
   "mimetype": "text/x-python",
   "name": "python",
   "nbconvert_exporter": "python",
   "pygments_lexer": "ipython3",
   "version": "3.9.13"
  }
 },
 "nbformat": 4,
 "nbformat_minor": 5
}
