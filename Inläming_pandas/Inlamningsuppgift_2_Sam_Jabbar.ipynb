{
 "cells": [
  {
   "cell_type": "markdown",
   "id": "d9bb2704",
   "metadata": {},
   "source": [
    "# Inlämning 2: Numpy, Pandas och Analys"
   ]
  },
  {
   "cell_type": "markdown",
   "id": "0925e475",
   "metadata": {},
   "source": [
    "### Part 1: Numpy"
   ]
  },
  {
   "cell_type": "code",
   "execution_count": 1,
   "id": "3d6e6fd5",
   "metadata": {},
   "outputs": [],
   "source": [
    "import numpy as np\n",
    "import matplotlib.pyplot as plt\n",
    "import warnings\n",
    "warnings.filterwarnings(\"ignore\")"
   ]
  },
  {
   "cell_type": "markdown",
   "id": "0750ad1a",
   "metadata": {},
   "source": [
    "Konstruera en array med 10 kolumner och 5 rader av float-tal. Inget tal får vara samma."
   ]
  },
  {
   "cell_type": "code",
   "execution_count": 2,
   "id": "83e13f76-9d58-4dbd-89f4-5cbfdcde235e",
   "metadata": {},
   "outputs": [
    {
     "name": "stdout",
     "output_type": "stream",
     "text": [
      "[[0.   0.02 0.04 0.06 0.08 0.1  0.12 0.14 0.16 0.18]\n",
      " [0.2  0.22 0.24 0.26 0.28 0.3  0.32 0.34 0.36 0.38]\n",
      " [0.4  0.42 0.44 0.46 0.48 0.5  0.52 0.54 0.56 0.58]\n",
      " [0.6  0.62 0.64 0.66 0.68 0.7  0.72 0.74 0.76 0.78]\n",
      " [0.8  0.82 0.84 0.86 0.88 0.9  0.92 0.94 0.96 0.98]]\n"
     ]
    }
   ],
   "source": [
    "N = 50\n",
    "xa = np.linspace(0, 1, N, endpoint=False)\n",
    "arr = np.array(xa)\n",
    "x1 = arr.reshape(5,10)\n",
    "print(x1)"
   ]
  },
  {
   "cell_type": "markdown",
   "id": "181fd018",
   "metadata": {},
   "source": [
    "Konstruera en ny array till med 10 kolumner och 7 rader av float-tal. Den skall inte vara samma som ovan array.."
   ]
  },
  {
   "cell_type": "code",
   "execution_count": 3,
   "id": "373890d4-4a51-481e-94f8-04bce8d94d40",
   "metadata": {},
   "outputs": [
    {
     "name": "stdout",
     "output_type": "stream",
     "text": [
      "[[1.         1.01428571 1.02857143 1.04285714 1.05714286 1.07142857\n",
      "  1.08571429 1.1        1.11428571 1.12857143]\n",
      " [1.14285714 1.15714286 1.17142857 1.18571429 1.2        1.21428571\n",
      "  1.22857143 1.24285714 1.25714286 1.27142857]\n",
      " [1.28571429 1.3        1.31428571 1.32857143 1.34285714 1.35714286\n",
      "  1.37142857 1.38571429 1.4        1.41428571]\n",
      " [1.42857143 1.44285714 1.45714286 1.47142857 1.48571429 1.5\n",
      "  1.51428571 1.52857143 1.54285714 1.55714286]\n",
      " [1.57142857 1.58571429 1.6        1.61428571 1.62857143 1.64285714\n",
      "  1.65714286 1.67142857 1.68571429 1.7       ]\n",
      " [1.71428571 1.72857143 1.74285714 1.75714286 1.77142857 1.78571429\n",
      "  1.8        1.81428571 1.82857143 1.84285714]\n",
      " [1.85714286 1.87142857 1.88571429 1.9        1.91428571 1.92857143\n",
      "  1.94285714 1.95714286 1.97142857 1.98571429]]\n"
     ]
    }
   ],
   "source": [
    "N = 70\n",
    "xb = np.linspace(1, 2, N, endpoint=False)\n",
    "arr = np.array(xb)\n",
    "x2 = arr.reshape(7,10)\n",
    "print(x2)"
   ]
  },
  {
   "cell_type": "markdown",
   "id": "04524bf4",
   "metadata": {},
   "source": [
    "Gör om de ovan arrayerna så att de har 5 kolumner men innehåller samma data."
   ]
  },
  {
   "cell_type": "code",
   "execution_count": 4,
   "id": "0809099f-6e8b-4302-8c4b-7076d28e9199",
   "metadata": {},
   "outputs": [
    {
     "name": "stdout",
     "output_type": "stream",
     "text": [
      "[[0.         0.02040816 0.04081633 0.06122449 0.08163265]\n",
      " [0.10204082 0.12244898 0.14285714 0.16326531 0.18367347]\n",
      " [0.20408163 0.2244898  0.24489796 0.26530612 0.28571429]\n",
      " [0.30612245 0.32653061 0.34693878 0.36734694 0.3877551 ]\n",
      " [0.40816327 0.42857143 0.44897959 0.46938776 0.48979592]\n",
      " [0.51020408 0.53061224 0.55102041 0.57142857 0.59183673]\n",
      " [0.6122449  0.63265306 0.65306122 0.67346939 0.69387755]\n",
      " [0.71428571 0.73469388 0.75510204 0.7755102  0.79591837]\n",
      " [0.81632653 0.83673469 0.85714286 0.87755102 0.89795918]\n",
      " [0.91836735 0.93877551 0.95918367 0.97959184 1.        ]]\n",
      "[[1.         1.01449275 1.02898551 1.04347826 1.05797101]\n",
      " [1.07246377 1.08695652 1.10144928 1.11594203 1.13043478]\n",
      " [1.14492754 1.15942029 1.17391304 1.1884058  1.20289855]\n",
      " [1.2173913  1.23188406 1.24637681 1.26086957 1.27536232]\n",
      " [1.28985507 1.30434783 1.31884058 1.33333333 1.34782609]\n",
      " [1.36231884 1.37681159 1.39130435 1.4057971  1.42028986]\n",
      " [1.43478261 1.44927536 1.46376812 1.47826087 1.49275362]\n",
      " [1.50724638 1.52173913 1.53623188 1.55072464 1.56521739]\n",
      " [1.57971014 1.5942029  1.60869565 1.62318841 1.63768116]\n",
      " [1.65217391 1.66666667 1.68115942 1.69565217 1.71014493]\n",
      " [1.72463768 1.73913043 1.75362319 1.76811594 1.7826087 ]\n",
      " [1.79710145 1.8115942  1.82608696 1.84057971 1.85507246]\n",
      " [1.86956522 1.88405797 1.89855072 1.91304348 1.92753623]\n",
      " [1.94202899 1.95652174 1.97101449 1.98550725 2.        ]]\n"
     ]
    }
   ],
   "source": [
    "N = 50\n",
    "x = np.linspace(0, 1, N, endpoint=True)\n",
    "arr = np.array(x)\n",
    "x1 = arr.reshape(10,5)\n",
    "print(x1)\n",
    "\n",
    "N = 70\n",
    "x = np.linspace(1, 2, N, endpoint=True)\n",
    "arr = np.array(x)\n",
    "x2 = arr.reshape(14,5)\n",
    "print(x2)"
   ]
  },
  {
   "cell_type": "markdown",
   "id": "27063978",
   "metadata": {},
   "source": [
    "Slå ihop de bägge arrayerna till en array."
   ]
  },
  {
   "cell_type": "code",
   "execution_count": 5,
   "id": "ab872fa2-5998-4da9-b120-1061ff7baca9",
   "metadata": {},
   "outputs": [
    {
     "name": "stdout",
     "output_type": "stream",
     "text": [
      "[[0.         0.02040816 0.04081633 0.06122449 0.08163265]\n",
      " [0.10204082 0.12244898 0.14285714 0.16326531 0.18367347]\n",
      " [0.20408163 0.2244898  0.24489796 0.26530612 0.28571429]\n",
      " [0.30612245 0.32653061 0.34693878 0.36734694 0.3877551 ]\n",
      " [0.40816327 0.42857143 0.44897959 0.46938776 0.48979592]\n",
      " [0.51020408 0.53061224 0.55102041 0.57142857 0.59183673]\n",
      " [0.6122449  0.63265306 0.65306122 0.67346939 0.69387755]\n",
      " [0.71428571 0.73469388 0.75510204 0.7755102  0.79591837]\n",
      " [0.81632653 0.83673469 0.85714286 0.87755102 0.89795918]\n",
      " [0.91836735 0.93877551 0.95918367 0.97959184 1.        ]\n",
      " [1.         1.01449275 1.02898551 1.04347826 1.05797101]\n",
      " [1.07246377 1.08695652 1.10144928 1.11594203 1.13043478]\n",
      " [1.14492754 1.15942029 1.17391304 1.1884058  1.20289855]\n",
      " [1.2173913  1.23188406 1.24637681 1.26086957 1.27536232]\n",
      " [1.28985507 1.30434783 1.31884058 1.33333333 1.34782609]\n",
      " [1.36231884 1.37681159 1.39130435 1.4057971  1.42028986]\n",
      " [1.43478261 1.44927536 1.46376812 1.47826087 1.49275362]\n",
      " [1.50724638 1.52173913 1.53623188 1.55072464 1.56521739]\n",
      " [1.57971014 1.5942029  1.60869565 1.62318841 1.63768116]\n",
      " [1.65217391 1.66666667 1.68115942 1.69565217 1.71014493]\n",
      " [1.72463768 1.73913043 1.75362319 1.76811594 1.7826087 ]\n",
      " [1.79710145 1.8115942  1.82608696 1.84057971 1.85507246]\n",
      " [1.86956522 1.88405797 1.89855072 1.91304348 1.92753623]\n",
      " [1.94202899 1.95652174 1.97101449 1.98550725 2.        ]]\n"
     ]
    }
   ],
   "source": [
    "x3 = np.concatenate((x1, x2), axis=0)\n",
    "print(x3)"
   ]
  },
  {
   "cell_type": "markdown",
   "id": "d698b3a8",
   "metadata": {},
   "source": [
    "Ändra ordningen på kolumnerna så att de har ordningen kolumn5, kolumn3, kolumn4, kolumn1 och kolumn2."
   ]
  },
  {
   "cell_type": "code",
   "execution_count": 30,
   "id": "9e55aff5-9347-4b61-b0af-0390c7903e18",
   "metadata": {},
   "outputs": [
    {
     "name": "stdout",
     "output_type": "stream",
     "text": [
      "[[0.02040816 0.06122449 0.         0.08163265 0.04081633]\n",
      " [0.12244898 0.16326531 0.10204082 0.18367347 0.14285714]\n",
      " [0.2244898  0.26530612 0.20408163 0.28571429 0.24489796]\n",
      " [0.32653061 0.36734694 0.30612245 0.3877551  0.34693878]\n",
      " [0.42857143 0.46938776 0.40816327 0.48979592 0.44897959]\n",
      " [0.53061224 0.57142857 0.51020408 0.59183673 0.55102041]\n",
      " [0.63265306 0.67346939 0.6122449  0.69387755 0.65306122]\n",
      " [0.73469388 0.7755102  0.71428571 0.79591837 0.75510204]\n",
      " [0.83673469 0.87755102 0.81632653 0.89795918 0.85714286]\n",
      " [0.93877551 0.97959184 0.91836735 1.         0.95918367]\n",
      " [1.01449275 1.04347826 1.         1.05797101 1.02898551]\n",
      " [1.08695652 1.11594203 1.07246377 1.13043478 1.10144928]\n",
      " [1.15942029 1.1884058  1.14492754 1.20289855 1.17391304]\n",
      " [1.23188406 1.26086957 1.2173913  1.27536232 1.24637681]\n",
      " [1.30434783 1.33333333 1.28985507 1.34782609 1.31884058]\n",
      " [1.37681159 1.4057971  1.36231884 1.42028986 1.39130435]\n",
      " [1.44927536 1.47826087 1.43478261 1.49275362 1.46376812]\n",
      " [1.52173913 1.55072464 1.50724638 1.56521739 1.53623188]\n",
      " [1.5942029  1.62318841 1.57971014 1.63768116 1.60869565]\n",
      " [1.66666667 1.69565217 1.65217391 1.71014493 1.68115942]\n",
      " [1.73913043 1.76811594 1.72463768 1.7826087  1.75362319]\n",
      " [1.8115942  1.84057971 1.79710145 1.85507246 1.82608696]\n",
      " [1.88405797 1.91304348 1.86956522 1.92753623 1.89855072]\n",
      " [1.95652174 1.98550725 1.94202899 2.         1.97101449]]\n",
      "           5         3         4         1         2\n",
      "0   0.020408  0.061224  0.000000  0.081633  0.040816\n",
      "1   0.122449  0.163265  0.102041  0.183673  0.142857\n",
      "2   0.224490  0.265306  0.204082  0.285714  0.244898\n",
      "3   0.326531  0.367347  0.306122  0.387755  0.346939\n",
      "4   0.428571  0.469388  0.408163  0.489796  0.448980\n",
      "5   0.530612  0.571429  0.510204  0.591837  0.551020\n",
      "6   0.632653  0.673469  0.612245  0.693878  0.653061\n",
      "7   0.734694  0.775510  0.714286  0.795918  0.755102\n",
      "8   0.836735  0.877551  0.816327  0.897959  0.857143\n",
      "9   0.938776  0.979592  0.918367  1.000000  0.959184\n",
      "10  1.014493  1.043478  1.000000  1.057971  1.028986\n",
      "11  1.086957  1.115942  1.072464  1.130435  1.101449\n",
      "12  1.159420  1.188406  1.144928  1.202899  1.173913\n",
      "13  1.231884  1.260870  1.217391  1.275362  1.246377\n",
      "14  1.304348  1.333333  1.289855  1.347826  1.318841\n",
      "15  1.376812  1.405797  1.362319  1.420290  1.391304\n",
      "16  1.449275  1.478261  1.434783  1.492754  1.463768\n",
      "17  1.521739  1.550725  1.507246  1.565217  1.536232\n",
      "18  1.594203  1.623188  1.579710  1.637681  1.608696\n",
      "19  1.666667  1.695652  1.652174  1.710145  1.681159\n",
      "20  1.739130  1.768116  1.724638  1.782609  1.753623\n",
      "21  1.811594  1.840580  1.797101  1.855072  1.826087\n",
      "22  1.884058  1.913043  1.869565  1.927536  1.898551\n",
      "23  1.956522  1.985507  1.942029  2.000000  1.971014\n"
     ]
    }
   ],
   "source": [
    "b = np.array(x3)\n",
    "print(b[:, [4,2,3,0,1]])\n",
    "\n",
    "# eller om man använder pandas\n",
    "\n",
    "import pandas as pd\n",
    "#initializing pandas dataframe\n",
    "df = pd.DataFrame(x3.reshape(-1, 5), columns=list('12345'))\n",
    "#changing order of column\n",
    "df = df[list('53412')]\n",
    "print(df)"
   ]
  },
  {
   "cell_type": "markdown",
   "id": "031a7184",
   "metadata": {},
   "source": [
    "### Part 2: Panda"
   ]
  },
  {
   "cell_type": "code",
   "execution_count": null,
   "id": "bc32132a",
   "metadata": {},
   "outputs": [],
   "source": [
    "import pandas as pd"
   ]
  },
  {
   "cell_type": "markdown",
   "id": "59f734fe",
   "metadata": {},
   "source": [
    "Hur många regioner finns med i data?\n",
    "Lista regionerna i bokstavsordning\n",
    "Vad är invånarantalet i varje region\n",
    "Hur många brott begicks i varje region\n",
    "Skapa en dataframe på de områden  med de 10 högsta antalet överfall.\n",
    "Lägg till en kolumn i dataframen som visar % antal överfall i området jämfört med invånarantal i området\n",
    "Skapa en ny dataframe som innehåller antalet områden som finns av de olika typerna av urban area. Ledtråd: groupby\n",
    "Ta reda på hur många områden hade population men inga överfall. Jämfört totala populationen i dessa med totala poplulationen i deras region.\n",
    "Räkna antalet områden som inte har någon data på överfall eller invånare.\n",
    "VG: Skapa en ny dataframe med 10  områderna med mer än 5000 invånare, men har de lägsta överfallen per invånare. \n",
    "VG: Skapa en ny dataframe som innehåller % överfall i regionen jämfört med antalet invånare i regionen.  \n",
    "VG: Lägg till en ny kolumn i dataframen som visar % antal överfall per region\n"
   ]
  },
  {
   "cell_type": "code",
   "execution_count": null,
   "id": "8825c658-ece4-4350-bb37-6364449133b4",
   "metadata": {},
   "outputs": [],
   "source": [
    "assults = pd.read_csv('assults.csv')\n",
    "assults"
   ]
  },
  {
   "cell_type": "markdown",
   "id": "692a0246-be1d-43b0-965e-077436aba199",
   "metadata": {},
   "source": [
    "### 1. Hur många regioner finns med i data?"
   ]
  },
  {
   "cell_type": "code",
   "execution_count": null,
   "id": "26a3c55f-481b-4f64-9d40-8cc9d5d192e2",
   "metadata": {},
   "outputs": [],
   "source": [
    "print(len(assults.drop_duplicates('Region_2013_label')))"
   ]
  },
  {
   "cell_type": "markdown",
   "id": "ded6edba-7bb1-4af9-bdb3-3c9d1b295e67",
   "metadata": {},
   "source": [
    "### 2. Lista regionerna i bokstavsordning"
   ]
  },
  {
   "cell_type": "code",
   "execution_count": null,
   "id": "8a26383f-d3a1-4062-8c35-d2de26a653d0",
   "metadata": {},
   "outputs": [],
   "source": [
    "df = assults.sort_values(by=['Region_2013_label']).drop_duplicates('Region_2013_label')\n",
    "df['Region_2013_label']"
   ]
  },
  {
   "cell_type": "markdown",
   "id": "d0cffc73-5d9b-4f48-9ac9-bb6d49177937",
   "metadata": {},
   "source": [
    "### 3. Vad är invånarantalet i varje region"
   ]
  },
  {
   "cell_type": "code",
   "execution_count": null,
   "id": "dfc270ee-7db3-463a-88f5-980104498d82",
   "metadata": {},
   "outputs": [],
   "source": [
    "df1 = assults.groupby('Region_2013_label')[['Population_mid_point_2015']].sum()\n",
    "df1"
   ]
  },
  {
   "cell_type": "markdown",
   "id": "794cd9dc-a608-4b6d-9ba9-50ed327b9b6f",
   "metadata": {},
   "source": [
    "### 4.Hur många brott begicks i varje region."
   ]
  },
  {
   "cell_type": "code",
   "execution_count": null,
   "id": "8a4afbd7-24e4-47d6-a1ba-57a9f4bea469",
   "metadata": {},
   "outputs": [],
   "source": [
    "df1 = assults.groupby('Region_2013_label')[['Victimisations_calendar_year_2015']].sum()\n",
    "df1"
   ]
  },
  {
   "cell_type": "markdown",
   "id": "9ff7c9db-a306-4c01-a6fb-94945ecd2aed",
   "metadata": {},
   "source": [
    "### 5.Skapa en dataframe på de områden  med de 10 högsta antalet överfall."
   ]
  },
  {
   "cell_type": "code",
   "execution_count": null,
   "id": "2ee171f5-74db-4212-803d-3a937b5c1de1",
   "metadata": {},
   "outputs": [],
   "source": [
    "df1['Victimisations_calendar_year_2015'].nlargest(10)"
   ]
  },
  {
   "cell_type": "markdown",
   "id": "d5610213-7954-440e-a9e8-763b928c7047",
   "metadata": {},
   "source": [
    "### 6.Lägg till en kolumn i dataframen som visar % antal överfall i området jämfört medinvånarantal i området"
   ]
  },
  {
   "cell_type": "code",
   "execution_count": null,
   "id": "b9c116fb-c7c0-4aa9-8647-0ee348a6e7af",
   "metadata": {},
   "outputs": [],
   "source": [
    "procent = assults['Victimisations_calendar_year_2015'] / assults['Population_mid_point_2015']\n",
    "assults[\"Procent_Victimisations_by_Population\"] = procent\n",
    "assults"
   ]
  },
  {
   "cell_type": "markdown",
   "id": "ef087422-7335-4cef-8bfd-d50a301fd366",
   "metadata": {},
   "source": [
    "### 7.Skapa en ny dataframe som innehåller antalet områden som finns av de olika typerna avurban area. Ledtråd:groupby"
   ]
  },
  {
   "cell_type": "code",
   "execution_count": null,
   "id": "61915f9e-4189-4a53-b4c6-ccab296042e9",
   "metadata": {},
   "outputs": [],
   "source": [
    "df = assults.groupby('Urban_area_type')[['Urban_area_2013_label']].count()\n",
    "df"
   ]
  },
  {
   "cell_type": "markdown",
   "id": "0aba83c5-56a5-481c-936e-a72062fc8505",
   "metadata": {},
   "source": [
    "### 8.Ta reda på hur många områden hade population men inga överfall. Jämfört totalapopulationen i dessa med totala poplulationen i deras region."
   ]
  },
  {
   "cell_type": "code",
   "execution_count": null,
   "id": "4048f41a-3e11-434f-abe9-e9c40f6e45ac",
   "metadata": {},
   "outputs": [],
   "source": [
    "df1 = assults[(assults['Victimisations_calendar_year_2015'] == 0)&(assults['Population_mid_point_2015'] != 0)]\n",
    "df2 = df1.groupby('Area_unit_2013_label')[['Area_unit_2013_label','Population_mid_point_2015','Region_2013_label']]\n",
    "\n",
    "print('Antalet områden hade population men inga överfall är: ',len(df2))\n",
    "\n"
   ]
  },
  {
   "cell_type": "code",
   "execution_count": null,
   "id": "7ca5df33-29e9-468f-af47-8e4d7c632ab9",
   "metadata": {},
   "outputs": [],
   "source": [
    "totalapopulationen_i_varje_område = df1.groupby('Area_unit_2013_label')[['Population_mid_point_2015']].sum()\n",
    "totalapopulationen_i_varje_område"
   ]
  },
  {
   "cell_type": "code",
   "execution_count": null,
   "id": "03738b66-5d53-424c-b054-a9bfb53d1a33",
   "metadata": {},
   "outputs": [],
   "source": [
    "totalapoplulationen_i_varje_region = assults.groupby('Region_2013_label')[['Population_mid_point_2015']].sum()\n",
    "totalapoplulationen_i_varje_region"
   ]
  },
  {
   "cell_type": "markdown",
   "id": "5ab0d297-67a6-4390-9d3e-3d8191b81b2c",
   "metadata": {},
   "source": [
    "### 9.Räkna antalet områden som inte har ån data på överfall eller invånare."
   ]
  },
  {
   "cell_type": "code",
   "execution_count": null,
   "id": "68bcbacc-c193-46bb-bf56-23e87a71dfe4",
   "metadata": {},
   "outputs": [],
   "source": [
    "df1 = assults[(assults['Victimisations_calendar_year_2015'] == 0)&(assults['Population_mid_point_2015'] == 0)]\n",
    "df2 = df1.groupby('Area_unit_2013_label')[['Area_unit_2013_label','Population_mid_point_2015','Region_2013_label']]\n",
    "\n",
    "print('Antalet områden som inte har någon data på överfall eller invånare är: ',len(df2))"
   ]
  },
  {
   "cell_type": "code",
   "execution_count": null,
   "id": "d8d204cf-ccbd-4532-be39-b68ee0174dff",
   "metadata": {},
   "outputs": [],
   "source": []
  },
  {
   "cell_type": "markdown",
   "id": "7978b987",
   "metadata": {},
   "source": [
    "### Part 3: Utforskning/analys"
   ]
  },
  {
   "cell_type": "markdown",
   "id": "bad825d6",
   "metadata": {},
   "source": [
    "Minst 500 rader, 5 Kolumner i ditt valda dataset"
   ]
  },
  {
   "cell_type": "markdown",
   "id": "0a51462f",
   "metadata": {},
   "source": [
    "#### Step 1: Välj dataset"
   ]
  },
  {
   "cell_type": "markdown",
   "id": "5f81000f",
   "metadata": {},
   "source": [
    "Hitta ett intressant dataset. Det valda datasettet måste vara i CSV format,  ha minst 500 rader och 5 kolumner. \n",
    "Ladda ner datasetet med pandas read_csv funktion och en url (se nedan). Alternativt i inlämningen skicka med datasettet."
   ]
  },
  {
   "cell_type": "code",
   "execution_count": null,
   "id": "46fad196",
   "metadata": {},
   "outputs": [],
   "source": [
    "data = pd.read_csv('healthcare_stroke_dataset.csv')"
   ]
  },
  {
   "cell_type": "markdown",
   "id": "c23ca94e",
   "metadata": {},
   "source": [
    "#### Step 2: Data preparation och Cleaning"
   ]
  },
  {
   "cell_type": "markdown",
   "id": "6eb2ac97",
   "metadata": {},
   "source": [
    "Ladda in dataset in i en dataframe med pandas. \n",
    "Behandla missade data, icke-korrekt data och fel data.\n",
    "Gör andra steg som behövs (gör om sträng datum till riktiga datum, skapa fler kolumner, slå ihop datasets osv).\n",
    "Summera hur datasetet ser ut i nuvarande läge i dina markdowns. Storlek, kolumner, kategori typer (qualitative vs. quantitative), kvalitet på data, fång osv."
   ]
  },
  {
   "cell_type": "markdown",
   "id": "e5524dfc-9dfe-4bcb-84d8-a15fdc103898",
   "metadata": {},
   "source": [
    "### Ta en första titt på datan"
   ]
  },
  {
   "cell_type": "code",
   "execution_count": null,
   "id": "fb64467e-fe21-49d2-bee3-80a146d182ea",
   "metadata": {},
   "outputs": [],
   "source": [
    "# I can see missing data in (bmi-Column) already!\n",
    "data.head()\n",
    "test_data = data.copy()\n",
    "#data = 5110 rows × 14 columns"
   ]
  },
  {
   "cell_type": "markdown",
   "id": "127f2dc3-c147-4233-a988-bdd79720dda4",
   "metadata": {},
   "source": [
    "### Hur många procent av raderna som innehåller streck/ minus tecken '-' då indikerar det att det finns inte något data i smoking_status columnen."
   ]
  },
  {
   "cell_type": "code",
   "execution_count": null,
   "id": "42b17f0c-acbf-4ac1-aa0d-e7277b062fde",
   "metadata": {},
   "outputs": [],
   "source": [
    "test_data.loc[(test_data['smoking_status'] == '-') , 'missing_data'] = False  \n",
    "test_data.loc[(data['smoking_status'] != '-') , 'missing_data'] = True\n",
    "\n",
    "miss = test_data.groupby('missing_data')[['missing_data']].count()\n",
    "miss"
   ]
  },
  {
   "cell_type": "code",
   "execution_count": null,
   "id": "61be4a51-0398-4f30-9479-6a31e25ee061",
   "metadata": {},
   "outputs": [],
   "source": [
    "#rows = 5110\n",
    "\n",
    "print('Andelen av Smoking_data kolumn som inte har någon data är:', (1544/5110)*100)"
   ]
  },
  {
   "cell_type": "markdown",
   "id": "5d72502f-c038-4761-8d35-acbfee8f3529",
   "metadata": {},
   "source": [
    "### 30% är för mycket för att kunna använda, det är bättre att inte använda Smoking_data alls annars får vi för mycket fel."
   ]
  },
  {
   "cell_type": "markdown",
   "id": "6413249c-7404-4864-921d-0a7a2ed259a1",
   "metadata": {},
   "source": [
    "### Hur många rader har inte fullständig data innehåller NaN?"
   ]
  },
  {
   "cell_type": "code",
   "execution_count": null,
   "id": "e14fc64f-0a26-4521-b979-930ce2d25d40",
   "metadata": {},
   "outputs": [],
   "source": [
    "# get the number of missing data points per column\n",
    "missing_values_count = data.isnull().sum()\n",
    "\n",
    "# look at the # of missing points in the first ten columns\n",
    "missing_values_count[0:13]\n",
    "\n",
    "# There is 201 missing data in bmi "
   ]
  },
  {
   "cell_type": "markdown",
   "id": "ccb8fa6e-cebf-4d52-aa79-4bfc32120edc",
   "metadata": {},
   "source": [
    "### Hur många procent av raderna har NaN i vår dataset"
   ]
  },
  {
   "cell_type": "code",
   "execution_count": null,
   "id": "66ce63d1-a79b-43d0-b389-b022d1c205a0",
   "metadata": {},
   "outputs": [],
   "source": [
    "# how many total missing values do we have?\n",
    "total_cells = np.product(data.shape)\n",
    "total_missing = missing_values_count.sum()\n",
    "\n",
    "# percent of data that is missing\n",
    "percent_missing = (total_missing/total_cells) * 100\n",
    "print(percent_missing)"
   ]
  },
  {
   "cell_type": "markdown",
   "id": "d4408185-53ce-44cb-af13-8c972bcf9040",
   "metadata": {},
   "source": [
    "### Resultatet är 0.30 %. det är för lite så jag antar det är ok att ta bort."
   ]
  },
  {
   "cell_type": "markdown",
   "id": "7877190a-b3cf-4c6e-8ad1-9b37d7b9b307",
   "metadata": {},
   "source": [
    "### Radera rader som inte innehåller data"
   ]
  },
  {
   "cell_type": "code",
   "execution_count": null,
   "id": "43a4e6d1-69a0-4a0a-a420-1b8c008aee36",
   "metadata": {},
   "outputs": [],
   "source": [
    "# remove all the rows that contain a missing value\n",
    "no_missing_data = data.dropna()\n",
    "\n",
    "# get the number of missing data points per column\n",
    "missing_values_count = no_missing_data.isnull().sum()\n",
    "\n",
    "# look at the # of missing points in the first ten columns\n",
    "missing_values_count[0:13]"
   ]
  },
  {
   "cell_type": "code",
   "execution_count": null,
   "id": "5d86b7a2-8a60-4449-893e-24d4dcc09c51",
   "metadata": {},
   "outputs": [],
   "source": [
    "no_missing_data.head()"
   ]
  },
  {
   "cell_type": "markdown",
   "id": "bf5d93d2-96ae-4a69-81f0-93732cbe8276",
   "metadata": {},
   "source": [
    "### Ändring av datum format"
   ]
  },
  {
   "cell_type": "code",
   "execution_count": null,
   "id": "b7aa2b67-72d4-44ad-b684-c59f90ded34d",
   "metadata": {},
   "outputs": [],
   "source": [
    "no_missing_data['date'] = pd.to_datetime(no_missing_data['date'])\n",
    "no_missing_data"
   ]
  },
  {
   "cell_type": "markdown",
   "id": "6a7a6da2-8b90-4096-a68f-db33ed6886bd",
   "metadata": {},
   "source": [
    "### Ta reda på datatyperna i vår dataset"
   ]
  },
  {
   "cell_type": "code",
   "execution_count": null,
   "id": "76dc37ad-6be7-4e63-9fd9-4c35336133d5",
   "metadata": {},
   "outputs": [],
   "source": [
    "print(no_missing_data.dtypes)"
   ]
  },
  {
   "cell_type": "markdown",
   "id": "fb6f950b-9452-438b-9835-9e998ae305b9",
   "metadata": {},
   "source": [
    "### Lägg till en ny kolumn som heter risk"
   ]
  },
  {
   "cell_type": "code",
   "execution_count": null,
   "id": "70d085dc-d74c-4ee5-b3f1-ef8404d084be",
   "metadata": {},
   "outputs": [],
   "source": [
    "#conditions \n",
    "def conditions(s):\n",
    "    risk = 0\n",
    "    if s['age'] >= 50:\n",
    "        risk += 1\n",
    "    if s['hypertension'] > 0:\n",
    "        risk += 1\n",
    "    if s['heart_disease'] > 0:\n",
    "        risk += 1\n",
    "    if s['bmi'] > 25:\n",
    "        risk += 1\n",
    "    if s['avg_glucose_level'] >= 99:\n",
    "        risk += 1\n",
    "    #if s['smoking_status'] == 'smokes' or s['smoking_status'] == 'formerly smoked':\n",
    "        #risk += 1\n",
    "    if s['stroke'] > 0:\n",
    "        risk += 1\n",
    "    return risk\n",
    "\n",
    "no_missing_data['risk'] = no_missing_data.apply(conditions, axis=1)\n",
    "no_missing_data\n",
    "copy_no_missing_data = no_missing_data.copy()"
   ]
  },
  {
   "cell_type": "markdown",
   "id": "463fcb05-4507-4490-920a-87719b29a9df",
   "metadata": {},
   "source": [
    "### Ändra så att talen blir mellan 0 och 1"
   ]
  },
  {
   "cell_type": "code",
   "execution_count": null,
   "id": "30474cd4-0111-423a-8680-0ed9338935ae",
   "metadata": {},
   "outputs": [],
   "source": [
    "no_missing_data['age'] = no_missing_data['age'].apply(lambda x: 1 if x >= 50 else 0)\n",
    "no_missing_data['avg_glucose_level'] = no_missing_data['avg_glucose_level'].apply(lambda x: 1 if x >= 99 else 0)\n",
    "no_missing_data['bmi'] = no_missing_data['bmi'].apply(lambda x: 1 if x >= 25 else 0)\n",
    "#no_missing_data['smoking_status'] = no_missing_data['smoking_status'].apply(lambda x: 1 if x == 'smokes'or x == 'formerly smoked'  else 0)\n",
    "no_missing_data"
   ]
  },
  {
   "cell_type": "markdown",
   "id": "cac05b00-f40e-4cd4-a51d-ae36ded556f8",
   "metadata": {},
   "source": [
    "#### Step 3: Undersökande analys och visualisering"
   ]
  },
  {
   "cell_type": "markdown",
   "id": "0d010da4",
   "metadata": {},
   "source": [
    "Undersök data genom analysera (mean, sum, range osv)  intressant statistik i numeriska kolumnerna.\n",
    "Undersök distributions av numeriska kolumner genom histogram osv\n",
    "Undersök relationen mellan kolumner med scatter plots, bar chars osv.\n",
    "Notera intressanta upptäckter i din markdown."
   ]
  },
  {
   "cell_type": "markdown",
   "id": "675e7613-150f-49f9-825f-79216dbb6776",
   "metadata": {},
   "source": [
    "### Kön fördelning i Procent"
   ]
  },
  {
   "cell_type": "code",
   "execution_count": null,
   "id": "f47986e0-1105-49c0-9aae-3fefb5f1ebe4",
   "metadata": {},
   "outputs": [],
   "source": [
    "#how many male in this study\n",
    "All_male = len(no_missing_data[(no_missing_data['gender'] == 'Male')])\n",
    "# how many total missing values do we have?\n",
    "total_cells = np.product(data.shape)\n",
    "\n",
    "# percent of data that is missing\n",
    "percent_male = (All_male/total_cells) * 100\n",
    "precent_female = (1-(percent_male/100))*100\n",
    "\n",
    "\n",
    "print('Total:',total_cells)\n",
    "print('male:',All_male)\n",
    "print('female:', total_cells-All_male)\n",
    "print('percent_female:',precent_female)\n",
    "print('percent_male:', percent_male)"
   ]
  },
  {
   "cell_type": "markdown",
   "id": "66680238-1a52-4f6e-9690-5c448da7fcc0",
   "metadata": {},
   "source": [
    "### Antalet procent för personer som är under 30 år gammla"
   ]
  },
  {
   "cell_type": "code",
   "execution_count": null,
   "id": "07a46912-1e59-4d9d-92fa-e06f02c13472",
   "metadata": {},
   "outputs": [],
   "source": [
    "age_under_30 = no_missing_data[(no_missing_data['age'] < 30)]\n",
    "len(age_under_30)/total_cells"
   ]
  },
  {
   "cell_type": "markdown",
   "id": "488c8935-7e86-4d51-8376-70a70644c164",
   "metadata": {},
   "source": [
    "### Medel Åldern i vår datasett"
   ]
  },
  {
   "cell_type": "code",
   "execution_count": null,
   "id": "f52789c0",
   "metadata": {},
   "outputs": [],
   "source": [
    "mean_age = no_missing_data['age'].mean()\n",
    "mean_age"
   ]
  },
  {
   "cell_type": "markdown",
   "id": "b3302e29-d24b-4779-926a-2ef368f225a4",
   "metadata": {},
   "source": [
    "### Hur många patienter som hammnat under samma risk kategori?"
   ]
  },
  {
   "cell_type": "code",
   "execution_count": null,
   "id": "93a4d7a4-9fc5-408a-820b-0a1b56e6bbe5",
   "metadata": {},
   "outputs": [],
   "source": [
    "quantity_patients_in_same_risk_group = no_missing_data.groupby('risk')[['age', 'hypertension', 'heart_disease', 'avg_glucose_level', 'bmi', 'stroke','risk']]\n",
    "quantity_patients_in_same_risk_group.sum() "
   ]
  },
  {
   "cell_type": "code",
   "execution_count": null,
   "id": "d8fd5e89-9901-453d-922f-60c9f22eba67",
   "metadata": {},
   "outputs": [],
   "source": [
    "antalet_patienter_i_varej_grupp = no_missing_data.groupby('risk')[['risk']]\n",
    "antalet_patienter_i_varej_grupp.count()"
   ]
  },
  {
   "cell_type": "markdown",
   "id": "84489179-a26e-4e0a-be45-c9109a0d33b6",
   "metadata": {},
   "source": [
    "### Histogram"
   ]
  },
  {
   "cell_type": "code",
   "execution_count": null,
   "id": "7f9abbf9-d4b9-40ea-abc9-06ff6fcce467",
   "metadata": {},
   "outputs": [],
   "source": [
    "bins = [1, 2, 3, 4, 5, 6, 7]\n",
    "plt.hist(no_missing_data['risk'],bins=bins)\n",
    "\n",
    "plt.ylabel('Antal')\n",
    "plt.xlabel('RISK')\n",
    "plt.title('Antalet personer som har hamnat i samma risk kategory')\n",
    "plt.show()"
   ]
  },
  {
   "cell_type": "markdown",
   "id": "a65971d2-0890-4a01-9b7d-fd19b0bce623",
   "metadata": {},
   "source": [
    "#### I Histogramet ser ut som att antalt personer med 1 och 2 risker är mest drappade av stroke "
   ]
  },
  {
   "cell_type": "markdown",
   "id": "51a743bd-1515-4fa3-bf5b-597be565817b",
   "metadata": {},
   "source": [
    "### Undersöking av relationen mellan kolumner med scatter plots, bar chars"
   ]
  },
  {
   "cell_type": "markdown",
   "id": "db5e7b92",
   "metadata": {},
   "source": [
    "#### Step 4: För VG - fråga och svara på 4 intressanta frågor om datan"
   ]
  },
  {
   "cell_type": "code",
   "execution_count": null,
   "id": "71ee5110-1a3f-456f-a4b7-721ab2f74c27",
   "metadata": {},
   "outputs": [],
   "source": [
    "age_risk = no_missing_data.plot.scatter(x = 'age', y = 'risk', c = 'DarkBlue')\n",
    "age_risk_hypertension = no_missing_data.plot.scatter(x = 'age', y = 'risk', c='hypertension', colormap='viridis')\n",
    "age_risk_heart_disease = no_missing_data.plot.scatter(x = 'age', y = 'risk', c='heart_disease', colormap='viridis')\n",
    "age_risk_avg_glucose_level = no_missing_data.plot.scatter(x = 'age', y = 'risk', c='avg_glucose_level', colormap='viridis')\n",
    "age_risk_bmi = no_missing_data.plot.scatter(x = 'age', y = 'risk', c='bmi', colormap='viridis')\n",
    "#age_risk_smoking_status = no_missing_data.plot.scatter(x = 'age', y = 'risk', c='smoking_status', colormap='viridis')\n",
    "age_risk_stroke = no_missing_data.plot.scatter(x = 'age', y = 'risk', c='stroke', colormap='viridis')"
   ]
  },
  {
   "cell_type": "code",
   "execution_count": null,
   "id": "561e8f3e",
   "metadata": {},
   "outputs": [],
   "source": [
    "#ax = copy_no_missing_data.plot.barh( x = 'age', y = 'risk')\n",
    "#ax1 = copy_no_missing_data.plot.bar(x = 'age', y = 'stroke')y\n",
    "#Det tar för lång tid att plotta."
   ]
  },
  {
   "cell_type": "markdown",
   "id": "b1dadef7",
   "metadata": {},
   "source": [
    "#### Step 5: Summera dina slutsatser & Skriv ett avslut."
   ]
  },
  {
   "cell_type": "markdown",
   "id": "e4e1c36c-2bbf-4f3c-8b94-7918e921d12e",
   "metadata": {},
   "source": [
    "#### Scatter diagramen visar ålder i två grupper som är under och lika med 50 år och över 50 år på x axeln och risk på y axeln passerat på olika sjukdomar/livstil. Vi ser att BMI är hög bland nästan alla åldrar som har fått stroke, vi ser också samma varjant när det gäller avg_glucose_level, men resten ser ut som att åldern som spelar stor roll. man hade kunnat hitta bättre samband bland olika åldrar, sjukdomar och livsstil på ett bättre sett genom till exempel att använda numerisk_logaritmen för att kunna se hur varje kolumn påverkar dem andra."
   ]
  },
  {
   "cell_type": "markdown",
   "id": "2ba6a3cf-01ab-4f17-b793-ebb21aae9061",
   "metadata": {},
   "source": [
    "#### Avslutningsvis pandas är mycket kraftfull och intressant,men som sagt datan måste vara korrekt och fel fri. Det är mycket bra att man kan visualisera data på olika sätt för att kuna gämföra och hitta samband. Nu vill jag använda den för att analysera olika intresanta aktien man kan investera i."
   ]
  },
  {
   "cell_type": "code",
   "execution_count": null,
   "id": "8b00d955-5f31-430b-a7f3-247150a4b50f",
   "metadata": {},
   "outputs": [],
   "source": [
    "import seaborn as sns\n",
    "no_missing_data.drop(['id'] , axis=1, inplace=True)\n",
    "print(no_missing_data.corr())\n",
    "sns.heatmap(no_missing_data.corr())"
   ]
  },
  {
   "cell_type": "code",
   "execution_count": null,
   "id": "5de19e43-9b65-455b-8411-ce59ee49b101",
   "metadata": {},
   "outputs": [],
   "source": []
  }
 ],
 "metadata": {
  "kernelspec": {
   "display_name": "Python 3 (ipykernel)",
   "language": "python",
   "name": "python3"
  },
  "language_info": {
   "codemirror_mode": {
    "name": "ipython",
    "version": 3
   },
   "file_extension": ".py",
   "mimetype": "text/x-python",
   "name": "python",
   "nbconvert_exporter": "python",
   "pygments_lexer": "ipython3",
   "version": "3.9.12"
  }
 },
 "nbformat": 4,
 "nbformat_minor": 5
}
