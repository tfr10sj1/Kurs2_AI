{
 "cells": [
  {
   "cell_type": "markdown",
   "id": "d9bb2704",
   "metadata": {},
   "source": [
    "# Inlämning 2: Numpy, Pandas och Analys"
   ]
  },
  {
   "cell_type": "markdown",
   "id": "0925e475",
   "metadata": {},
   "source": [
    "### Part 1: Numpy"
   ]
  },
  {
   "cell_type": "code",
   "execution_count": 2,
   "id": "3d6e6fd5",
   "metadata": {},
   "outputs": [],
   "source": [
    "import numpy as np"
   ]
  },
  {
   "cell_type": "markdown",
   "id": "0750ad1a",
   "metadata": {},
   "source": [
    "Konstruera en array med 10 kolumner och 5 rader av float-tal. Inget tal får vara samma."
   ]
  },
  {
   "cell_type": "code",
   "execution_count": 35,
   "id": "83e13f76-9d58-4dbd-89f4-5cbfdcde235e",
   "metadata": {},
   "outputs": [
    {
     "name": "stdout",
     "output_type": "stream",
     "text": [
      "[[0.   0.02 0.04 0.06 0.08 0.1  0.12 0.14 0.16 0.18]\n",
      " [0.2  0.22 0.24 0.26 0.28 0.3  0.32 0.34 0.36 0.38]\n",
      " [0.4  0.42 0.44 0.46 0.48 0.5  0.52 0.54 0.56 0.58]\n",
      " [0.6  0.62 0.64 0.66 0.68 0.7  0.72 0.74 0.76 0.78]\n",
      " [0.8  0.82 0.84 0.86 0.88 0.9  0.92 0.94 0.96 0.98]]\n"
     ]
    }
   ],
   "source": [
    "N = 50\n",
    "x = np.linspace(0, 1, N, endpoint=False)\n",
    "arr = np.array(x)\n",
    "x1 = arr.reshape(5,10)\n",
    "print(x1)"
   ]
  },
  {
   "cell_type": "markdown",
   "id": "181fd018",
   "metadata": {},
   "source": [
    "Konstruera en ny array till med 10 kolumner och 7 rader av float-tal. Den skall inte vara samma som ovan array.."
   ]
  },
  {
   "cell_type": "code",
   "execution_count": 34,
   "id": "373890d4-4a51-481e-94f8-04bce8d94d40",
   "metadata": {},
   "outputs": [
    {
     "name": "stdout",
     "output_type": "stream",
     "text": [
      "[[1.         1.01428571 1.02857143 1.04285714 1.05714286 1.07142857\n",
      "  1.08571429 1.1        1.11428571 1.12857143]\n",
      " [1.14285714 1.15714286 1.17142857 1.18571429 1.2        1.21428571\n",
      "  1.22857143 1.24285714 1.25714286 1.27142857]\n",
      " [1.28571429 1.3        1.31428571 1.32857143 1.34285714 1.35714286\n",
      "  1.37142857 1.38571429 1.4        1.41428571]\n",
      " [1.42857143 1.44285714 1.45714286 1.47142857 1.48571429 1.5\n",
      "  1.51428571 1.52857143 1.54285714 1.55714286]\n",
      " [1.57142857 1.58571429 1.6        1.61428571 1.62857143 1.64285714\n",
      "  1.65714286 1.67142857 1.68571429 1.7       ]\n",
      " [1.71428571 1.72857143 1.74285714 1.75714286 1.77142857 1.78571429\n",
      "  1.8        1.81428571 1.82857143 1.84285714]\n",
      " [1.85714286 1.87142857 1.88571429 1.9        1.91428571 1.92857143\n",
      "  1.94285714 1.95714286 1.97142857 1.98571429]]\n"
     ]
    }
   ],
   "source": [
    "N = 70\n",
    "x = np.linspace(1, 2, N, endpoint=False)\n",
    "arr = np.array(x)\n",
    "x2 = arr.reshape(7,10)\n",
    "print(x2)"
   ]
  },
  {
   "cell_type": "markdown",
   "id": "04524bf4",
   "metadata": {},
   "source": [
    "Gör om de ovan arrayerna så att de har 5 kolumner men innehåller samma data."
   ]
  },
  {
   "cell_type": "code",
   "execution_count": 65,
   "id": "0809099f-6e8b-4302-8c4b-7076d28e9199",
   "metadata": {},
   "outputs": [
    {
     "name": "stdout",
     "output_type": "stream",
     "text": [
      "[[10 10 10 10 10]\n",
      " [10 10 10 10 10]\n",
      " [10 10 10 10 10]\n",
      " [10 10 10 10 10]\n",
      " [10 10 10 10 10]\n",
      " [10 10 10 10 10]\n",
      " [10 10 10 10 10]\n",
      " [10 10 10 10 10]\n",
      " [10 10 10 10 10]\n",
      " [10 10 10 10 10]]\n"
     ]
    }
   ],
   "source": [
    "x3 = np.full((10, 5), 10)\n",
    "print(x3)"
   ]
  },
  {
   "cell_type": "markdown",
   "id": "27063978",
   "metadata": {},
   "source": [
    "Slå ihop de bägge arrayerna till en array."
   ]
  },
  {
   "cell_type": "code",
   "execution_count": 66,
   "id": "ab872fa2-5998-4da9-b120-1061ff7baca9",
   "metadata": {},
   "outputs": [
    {
     "ename": "ValueError",
     "evalue": "operands could not be broadcast together with shapes (10,5) (5,10) ",
     "output_type": "error",
     "traceback": [
      "\u001b[1;31m---------------------------------------------------------------------------\u001b[0m",
      "\u001b[1;31mValueError\u001b[0m                                Traceback (most recent call last)",
      "Input \u001b[1;32mIn [66]\u001b[0m, in \u001b[0;36m<cell line: 2>\u001b[1;34m()\u001b[0m\n\u001b[0;32m      1\u001b[0m \u001b[38;5;66;03m#x4 = np.concatenate((x1, x3), axis=0)\u001b[39;00m\n\u001b[1;32m----> 2\u001b[0m x4 \u001b[38;5;241m=\u001b[39m \u001b[43mx3\u001b[49m\u001b[38;5;241;43m*\u001b[39;49m\u001b[43mx1\u001b[49m\n\u001b[0;32m      3\u001b[0m \u001b[38;5;28mprint\u001b[39m(x4)\n",
      "\u001b[1;31mValueError\u001b[0m: operands could not be broadcast together with shapes (10,5) (5,10) "
     ]
    }
   ],
   "source": [
    "#x4 = np.concatenate((x1, x3), axis=0)\n",
    "x4 = x3*x1\n",
    "print(x4)"
   ]
  },
  {
   "cell_type": "markdown",
   "id": "d698b3a8",
   "metadata": {},
   "source": [
    "Ändra ordningen på kolumnerna så att de har ordningen kolumn5, kolumn3, kolumn4, kolumn1 och kolumn2."
   ]
  },
  {
   "cell_type": "code",
   "execution_count": 56,
   "id": "9e55aff5-9347-4b61-b0af-0390c7903e18",
   "metadata": {},
   "outputs": [
    {
     "name": "stdout",
     "output_type": "stream",
     "text": [
      "[[0.  0.4 0.8 0.6 0.2 1.  1.4 1.8 1.2 1.6]\n",
      " [2.  2.4 2.8 2.6 2.2 3.  3.4 3.8 3.2 3.6]\n",
      " [4.  4.4 4.8 4.6 4.2 5.  5.4 5.8 5.2 5.6]\n",
      " [6.  6.4 6.8 6.6 6.2 7.  7.4 7.8 7.2 7.6]\n",
      " [8.  8.4 8.8 8.6 8.2 9.  9.4 9.8 9.2 9.6]]\n"
     ]
    }
   ],
   "source": [
    "permutation = [0, 4, 1, 3, 2, 5, 8, 6, 9, 7]\n",
    "idx = np.empty_like(permutation)\n",
    "idx[permutation] = np.arange(len(permutation))\n",
    "x4[:, idx]  # return a rearranged copy\n",
    "x5 = x4[:] = x4[:, idx]  # in-place modification of x4\n",
    "print(x5)"
   ]
  },
  {
   "cell_type": "markdown",
   "id": "031a7184",
   "metadata": {},
   "source": [
    "### Part 2: Panda"
   ]
  },
  {
   "cell_type": "code",
   "execution_count": 2,
   "id": "bc32132a",
   "metadata": {},
   "outputs": [],
   "source": [
    "import pandas as pd"
   ]
  },
  {
   "cell_type": "code",
   "execution_count": 3,
   "id": "8cc96bd1",
   "metadata": {},
   "outputs": [],
   "source": [
    "assults = pd.read_csv('assults.csv')"
   ]
  },
  {
   "cell_type": "markdown",
   "id": "59f734fe",
   "metadata": {},
   "source": [
    "Hur många regioner finns med i data?\n",
    "Lista regionerna i bokstavsordning\n",
    "Vad är invånarantalet i varje region\n",
    "Hur många brott begicks i varje region\n",
    "Skapa en dataframe på de områden  med de 10 högsta antalet överfall.\n",
    "Lägg till en kolumn i dataframen som visar % antal överfall i området jämfört med invånarantal i området\n",
    "Skapa en ny dataframe som innehåller antalet områden som finns av de olika typerna av urban area. Ledtråd: groupby\n",
    "Ta reda på hur många områden hade population men inga överfall. Jämfört totala populationen i dessa med totala poplulationen i deras region.\n",
    "Räkna antalet områden som inte har någon data på överfall eller invånare.\n",
    "VG: Skapa en ny dataframe med 10  områderna med mer än 5000 invånare, men har de lägsta överfallen per invånare. \n",
    "VG: Skapa en ny dataframe som innehåller % överfall i regionen jämfört med antalet invånare i regionen.  \n",
    "VG: Lägg till en ny kolumn i dataframen som visar % antal överfall per region\n"
   ]
  },
  {
   "cell_type": "markdown",
   "id": "7978b987",
   "metadata": {},
   "source": [
    "### Part 3: Utforskning/analys"
   ]
  },
  {
   "cell_type": "markdown",
   "id": "bad825d6",
   "metadata": {},
   "source": [
    "Minst 500 rader, 5 Kolumner i ditt valda dataset"
   ]
  },
  {
   "cell_type": "markdown",
   "id": "0a51462f",
   "metadata": {},
   "source": [
    "#### Step 1: Välj dataset"
   ]
  },
  {
   "cell_type": "markdown",
   "id": "5f81000f",
   "metadata": {},
   "source": [
    "Hitta ett intressant dataset. Det valda datasettet måste vara i CSV format,  ha minst 500 rader och 5 kolumner. \n",
    "Ladda ner datasetet med pandas read_csv funktion och en url (se nedan). Alternativt i inlämningen skicka med datasettet."
   ]
  },
  {
   "cell_type": "code",
   "execution_count": null,
   "id": "46fad196",
   "metadata": {},
   "outputs": [],
   "source": [
    "url = 'https://raw.githubusercontent.com/cs109/2014_data/master/countries.csv'\n",
    "data = pd.read_csv(url)"
   ]
  },
  {
   "cell_type": "markdown",
   "id": "c23ca94e",
   "metadata": {},
   "source": [
    "#### Step 2: Data preparation och Cleaning"
   ]
  },
  {
   "cell_type": "markdown",
   "id": "6eb2ac97",
   "metadata": {},
   "source": [
    "Ladda in dataset in i en dataframe med pandas. \n",
    "Behandla missade data, icke-korrekt data och fel data.\n",
    "Gör andra steg som behövs (gör om sträng datum till riktiga datum, skapa fler kolumner, slå ihop datasets osv).\n",
    "Summera hur datasetet ser ut i nuvarande läge i dina markdowns. Storlek, kolumner, kategori typer (qualitative vs. quantitative), kvalitet på data, fång osv."
   ]
  },
  {
   "cell_type": "code",
   "execution_count": null,
   "id": "240b5910",
   "metadata": {},
   "outputs": [],
   "source": []
  },
  {
   "cell_type": "markdown",
   "id": "ae409b44",
   "metadata": {},
   "source": [
    "#### Step 3: Undersökande analys och visualisering"
   ]
  },
  {
   "cell_type": "markdown",
   "id": "0d010da4",
   "metadata": {},
   "source": [
    "Undersök data genom analysera (mean, sum, range osv)  intressant statistik i numeriska kolumnerna.\n",
    "Undersök distributions av numeriska kolumner genom histogram osv\n",
    "Undersök relationen mellan kolumner med scatter plots, bar chars osv.\n",
    "Notera intressanta upptäckter i din markdown."
   ]
  },
  {
   "cell_type": "code",
   "execution_count": null,
   "id": "f52789c0",
   "metadata": {},
   "outputs": [],
   "source": []
  },
  {
   "cell_type": "markdown",
   "id": "db5e7b92",
   "metadata": {},
   "source": [
    "#### Step 4: För VG - fråga och svara på 4 intressanta frågor om datan"
   ]
  },
  {
   "cell_type": "code",
   "execution_count": null,
   "id": "561e8f3e",
   "metadata": {},
   "outputs": [],
   "source": []
  },
  {
   "cell_type": "markdown",
   "id": "b1dadef7",
   "metadata": {},
   "source": [
    "#### Step 5: Summera dina slutsatser & Skriv ett avslut."
   ]
  },
  {
   "cell_type": "code",
   "execution_count": null,
   "id": "ad3521ff",
   "metadata": {},
   "outputs": [],
   "source": []
  }
 ],
 "metadata": {
  "kernelspec": {
   "display_name": "Python 3 (ipykernel)",
   "language": "python",
   "name": "python3"
  },
  "language_info": {
   "codemirror_mode": {
    "name": "ipython",
    "version": 3
   },
   "file_extension": ".py",
   "mimetype": "text/x-python",
   "name": "python",
   "nbconvert_exporter": "python",
   "pygments_lexer": "ipython3",
   "version": "3.9.12"
  }
 },
 "nbformat": 4,
 "nbformat_minor": 5
}
